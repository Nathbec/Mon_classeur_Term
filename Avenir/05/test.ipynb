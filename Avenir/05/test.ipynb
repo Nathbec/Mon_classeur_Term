{
 "cells": [
  {
   "cell_type": "code",
   "execution_count": 8,
   "id": "dd0e2f5f",
   "metadata": {},
   "outputs": [],
   "source": [
    "def renverse(mot):\n",
    "    inverse = \"\"\n",
    "    for caractere in mot:\n",
    "        inverse = caractere + inverse\n",
    "    return inverse"
   ]
  },
  {
   "cell_type": "code",
   "execution_count": 9,
   "id": "228618bc",
   "metadata": {},
   "outputs": [
    {
     "data": {
      "text/plain": [
       "'cba'"
      ]
     },
     "execution_count": 9,
     "metadata": {},
     "output_type": "execute_result"
    }
   ],
   "source": [
    "renverse(\"abc\")"
   ]
  },
  {
   "cell_type": "code",
   "execution_count": null,
   "id": "f21b32aa",
   "metadata": {},
   "outputs": [],
   "source": []
  }
 ],
 "metadata": {
  "kernelspec": {
   "display_name": "Python 3",
   "language": "python",
   "name": "python3"
  },
  "language_info": {
   "codemirror_mode": {
    "name": "ipython",
    "version": 3
   },
   "file_extension": ".py",
   "mimetype": "text/x-python",
   "name": "python",
   "nbconvert_exporter": "python",
   "pygments_lexer": "ipython3",
   "version": "3.12.1"
  }
 },
 "nbformat": 4,
 "nbformat_minor": 5
}
