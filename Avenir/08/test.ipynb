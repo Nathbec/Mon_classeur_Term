{
 "cells": [
  {
   "cell_type": "code",
   "execution_count": 2,
   "id": "96e85aed",
   "metadata": {},
   "outputs": [],
   "source": [
    "def maximum_tableau(tab):\n",
    "    return max(tab)"
   ]
  },
  {
   "cell_type": "code",
   "execution_count": 3,
   "id": "ea823dd7",
   "metadata": {},
   "outputs": [
    {
     "data": {
      "text/plain": [
       "131"
      ]
     },
     "execution_count": 3,
     "metadata": {},
     "output_type": "execute_result"
    }
   ],
   "source": [
    "maximum_tableau([98, 12, 104, 23, 131, 9])"
   ]
  },
  {
   "cell_type": "code",
   "execution_count": 4,
   "id": "f3e76f5a",
   "metadata": {},
   "outputs": [
    {
     "data": {
      "text/plain": [
       "24"
      ]
     },
     "execution_count": 4,
     "metadata": {},
     "output_type": "execute_result"
    }
   ],
   "source": [
    "maximum_tableau([-27, 24, -3, 15])"
   ]
  },
  {
   "cell_type": "code",
   "execution_count": null,
   "id": "54f924ed",
   "metadata": {},
   "outputs": [],
   "source": []
  }
 ],
 "metadata": {
  "kernelspec": {
   "display_name": "Python 3",
   "language": "python",
   "name": "python3"
  },
  "language_info": {
   "codemirror_mode": {
    "name": "ipython",
    "version": 3
   },
   "file_extension": ".py",
   "mimetype": "text/x-python",
   "name": "python",
   "nbconvert_exporter": "python",
   "pygments_lexer": "ipython3",
   "version": "3.12.1"
  }
 },
 "nbformat": 4,
 "nbformat_minor": 5
}
