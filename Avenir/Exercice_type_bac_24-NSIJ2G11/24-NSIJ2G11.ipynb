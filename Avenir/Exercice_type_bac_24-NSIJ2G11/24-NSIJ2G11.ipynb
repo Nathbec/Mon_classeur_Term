{
 "cells": [
  {
   "cell_type": "markdown",
   "id": "cfd99292",
   "metadata": {},
   "source": [
    "### Exercice 1 :\n",
    "\n",
    "Partie A\n",
    "\n",
    "1- Attribut = longueur\n",
    "\n",
    "Méthode = remplir_grille\n",
    "\n",
    "2- Dans a il y a \"DDDDDDD\" et dans b il y a \"BBBB\"\n",
    "\n",
    "3- "
   ]
  },
  {
   "cell_type": "code",
   "execution_count": null,
   "id": "9485edfb",
   "metadata": {},
   "outputs": [],
   "source": [
    "class Chemin:\n",
    "    def __init__(self, itineraire):\n",
    "        self.itineraire = itineraire\n",
    "        longueur, largeur = 0, 0\n",
    "        for direction in self.itineraire:\n",
    "            if direction == \"D\":\n",
    "                longueur = longueur + 1\n",
    "            if direction == \"B\":\n",
    "                largeur = largeur + 1\n",
    "        self.longueur = longueur\n",
    "        self.largeur = largeur\n",
    "        self.grille = [['.' for i in range(longueur+1)] for j in range(largeur+1)]\n",
    "\n",
    "    def remplir_grille(self):\n",
    "        i, j=0, 0\n",
    "        self.grille[0][0] = 's'\n",
    "        for direction in ...:\n",
    "            if direction == 'D':\n",
    "                ... = ...\n",
    "            elif direction == 'B':\n",
    "                ... = ...\n",
    "            self.grille[i][j] = '*'\n",
    "        self.grille[self.largeur][self.longueur] = 'E'        "
   ]
  }
 ],
 "metadata": {
  "language_info": {
   "name": "python"
  }
 },
 "nbformat": 4,
 "nbformat_minor": 5
}
