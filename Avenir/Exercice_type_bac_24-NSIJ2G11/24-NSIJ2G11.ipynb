{
 "cells": [
  {
   "cell_type": "markdown",
   "id": "cfd99292",
   "metadata": {},
   "source": [
    "### Exercice 1 :\n",
    "\n",
    "Partie A\n",
    "\n",
    "1- Attribut = longueur\n",
    "\n",
    "Méthode = remplir_grille\n",
    "\n",
    "2- Dans a il y a \"DDDDDDD\" et dans b il y a \"BBBB\"\n",
    "\n",
    "3- "
   ]
  },
  {
   "cell_type": "code",
   "execution_count": null,
   "id": "9485edfb",
   "metadata": {},
   "outputs": [],
   "source": [
    "class Chemin:\n",
    "    def __init__(self, itineraire):\n",
    "        self.itineraire = itineraire\n",
    "        longueur, largeur = 0, 0\n",
    "        for direction in self.itineraire:\n",
    "            if direction == \"D\":\n",
    "                longueur = longueur + 1\n",
    "            if direction == \"B\":\n",
    "                largeur = largeur + 1\n",
    "        self.longueur = longueur\n",
    "        self.largeur = largeur\n",
    "        self.grille = [['.' for i in range(longueur+1)] for j in range(largeur+1)]\n",
    "\n",
    "    def remplir_grille(self):\n",
    "        i, j=0, 0 # Position initiale\n",
    "        self.grille[0][0] = 'S' # Case de départ marqué par un S\n",
    "        for direction in self.itineraire:\n",
    "            if direction == 'D':\n",
    "                i += 1 # Déplacement vers la droite \n",
    "            elif direction == 'B':\n",
    "                j += 1 # Déplacement vers le bas\n",
    "            self.grille[i][j] = '*' # Marquer le chemin avec '*'\n",
    "        self.grille[self.largeur][self.longueur] = 'E' # Case d'arrivée marquée d'un E\n",
    "\n",
    "    def get_dimensions (self):\n",
    "        return (self.longueur, self.largeur)\n",
    "    \n",
    "    def tracer_chemin(self):\n",
    "        for i in range(len(self.grille)):\n",
    "            for j in range(len(self.grille[i])):\n",
    "                print(self.grille[i][j], end=' ')\n",
    "            print()"
   ]
  },
  {
   "cell_type": "code",
   "execution_count": null,
   "id": "8a3cb96c",
   "metadata": {},
   "outputs": [],
   "source": [
    "from random import random\n",
    "from random import choice\n",
    "\n",
    "def itineraire_aleatoire(m, n):\n",
    "    itineraire = ''\n",
    "    i, j = 0, 0\n",
    "    while i != m and j != n:\n",
    "        random.choice()\n",
    "         # il y a plusieurs lignes\n",
    "    if i == m:\n",
    "        itineraire = itineraire + 'D'*(n-j)\n",
    "    if j == n:\n",
    "        itineraire = itineraire + 'B'*(m-i)\n",
    "    return itineraire"
   ]
  },
  {
   "cell_type": "markdown",
   "id": "abc259ff",
   "metadata": {},
   "source": [
    "### Exercice 3:\n",
    "\n",
    "Partie A-Encodage binaire\n",
    "\n",
    "1) La qualification décimale 11 correspond à un chef d'équipe conducteur car cela fera:\n",
    "\n",
    "8+2+1 = 11\n",
    "\n",
    "2) Le codage décimal de la qualification chef d'agrès conduxteur serai de \n",
    "\n",
    "8+4+2+1 = 15\n",
    "\n",
    "3) Car un chef d'agrès doit forcément être chef d'équipe et équipier qui fait plus de 4. Et un chef d'équipe doit être équipier ce qui fait moins de 4.\n",
    "\n",
    "4) 5 nouvelles aptitudes en plus de celle présente dans l'ex\n",
    "\n",
    "5) "
   ]
  },
  {
   "cell_type": "markdown",
   "id": "8901439a",
   "metadata": {},
   "source": []
  }
 ],
 "metadata": {
  "kernelspec": {
   "display_name": "Python 3",
   "language": "python",
   "name": "python3"
  },
  "language_info": {
   "codemirror_mode": {
    "name": "ipython",
    "version": 3
   },
   "file_extension": ".py",
   "mimetype": "text/x-python",
   "name": "python",
   "nbconvert_exporter": "python",
   "pygments_lexer": "ipython3",
   "version": "3.12.1"
  }
 },
 "nbformat": 4,
 "nbformat_minor": 5
}
