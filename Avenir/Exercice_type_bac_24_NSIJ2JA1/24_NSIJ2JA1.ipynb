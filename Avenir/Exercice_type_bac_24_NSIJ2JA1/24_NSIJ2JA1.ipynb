{
 "cells": [
  {
   "cell_type": "markdown",
   "id": "37c7f9a9",
   "metadata": {},
   "source": [
    "### Exercice 2:\n",
    "\n",
    "1- Oui l'expression est bien parenthésée car chaque parnethèse ouverte se voit fermé par une autre.\n",
    "\n",
    "Partie A \n",
    "\n",
    "2-"
   ]
  },
  {
   "cell_type": "code",
   "execution_count": 30,
   "id": "88a80526",
   "metadata": {},
   "outputs": [],
   "source": [
    "def compte_ouvrante (txt):\n",
    "    nb=0\n",
    "    for caractere in txt:\n",
    "        if caractere == \"(\" or caractere==\"[\":\n",
    "            nb+=1\n",
    "    return nb"
   ]
  },
  {
   "cell_type": "code",
   "execution_count": 32,
   "id": "6959a5dc",
   "metadata": {},
   "outputs": [
    {
     "data": {
      "text/plain": [
       "7"
      ]
     },
     "execution_count": 32,
     "metadata": {},
     "output_type": "execute_result"
    }
   ],
   "source": [
    "txt=\"(hjkghkfhkmjsdfhfkmjhdqughriat([[[[[]]]]])\"\n",
    "compte_ouvrante(txt)    \n"
   ]
  },
  {
   "cell_type": "markdown",
   "id": "2dfd7dc2",
   "metadata": {},
   "source": [
    "3-"
   ]
  },
  {
   "cell_type": "code",
   "execution_count": 27,
   "id": "e9165e73",
   "metadata": {},
   "outputs": [],
   "source": [
    "def compte_fermant(txt):\n",
    "    bn=0\n",
    "    for caractere in txt:\n",
    "        if caractere==\")\" or caractere==\"]\":\n",
    "            bn+=1\n",
    "    return bn"
   ]
  },
  {
   "cell_type": "code",
   "execution_count": 29,
   "id": "97c569cd",
   "metadata": {},
   "outputs": [
    {
     "data": {
      "text/plain": [
       "5"
      ]
     },
     "execution_count": 29,
     "metadata": {},
     "output_type": "execute_result"
    }
   ],
   "source": [
    "txt=\"(hjkghkfhkmjsdfhfkmjhdqughriat()]]]]\"\n",
    "compte_fermant(txt)"
   ]
  },
  {
   "cell_type": "markdown",
   "id": "52bd8f61",
   "metadata": {},
   "source": [
    "4-"
   ]
  },
  {
   "cell_type": "code",
   "execution_count": 33,
   "id": "718113d8",
   "metadata": {},
   "outputs": [],
   "source": [
    "def bon_compte(txt):\n",
    "    if compte_fermant(txt)==compte_ouvrante(txt):\n",
    "        return True\n",
    "    else:\n",
    "        return False"
   ]
  },
  {
   "cell_type": "code",
   "execution_count": 37,
   "id": "2e0c47d1",
   "metadata": {},
   "outputs": [
    {
     "data": {
      "text/plain": [
       "False"
      ]
     },
     "execution_count": 37,
     "metadata": {},
     "output_type": "execute_result"
    }
   ],
   "source": [
    "txt=\"hjkghkfhkmjsdfhfkmjhdqughriat([[[[]]]]]))\"\n",
    "bon_compte(txt)"
   ]
  },
  {
   "cell_type": "markdown",
   "id": "0096cad7",
   "metadata": {},
   "source": [
    "5-"
   ]
  },
  {
   "cell_type": "code",
   "execution_count": 38,
   "id": "b0d2b7f3",
   "metadata": {},
   "outputs": [
    {
     "data": {
      "text/plain": [
       "True"
      ]
     },
     "execution_count": 38,
     "metadata": {},
     "output_type": "execute_result"
    }
   ],
   "source": [
    "txt=\"([))\"\n",
    "bon_compte(txt)"
   ]
  },
  {
   "cell_type": "markdown",
   "id": "223bf212",
   "metadata": {},
   "source": [
    "Si l'on met un [ puis une ) cela comptera comme une parnethèse ouvrante et une parenthèse fermante\n",
    "\n",
    "Partie B \n",
    "\n",
    "6- "
   ]
  },
  {
   "cell_type": "code",
   "execution_count": 1,
   "id": "256a499e",
   "metadata": {},
   "outputs": [],
   "source": [
    "class Pile:\n",
    "    def __init__(self):\n",
    "        self.contenu = []\n",
    "    \n",
    "    def est_vide(self):\n",
    "        return len(self.contenu) == 0\n",
    "    \n",
    "    def empiler(self, elt):\n",
    "        return self.append(elt)\n",
    "    \n",
    "    def depiler(self):\n",
    "        if self.est_vide():\n",
    "            return \"La pile est vide.\"\n",
    "        return self.pop"
   ]
  },
  {
   "cell_type": "markdown",
   "id": "5f51f9bc",
   "metadata": {},
   "source": [
    "7-\n",
    "\n",
    "\n",
    "\n",
    "8-"
   ]
  },
  {
   "cell_type": "code",
   "execution_count": null,
   "id": "2111ad96",
   "metadata": {},
   "outputs": [],
   "source": [
    "def est_bien_parenthesee(txt):\n",
    "    p=Pile()\n",
    "    for caractere in txt:\n",
    "        if caractere == \"(\" or caractere == \"[\":\n",
    "            p.empiler(caractere)\n",
    "        if caractere == \")\" or caractere == \"]\":\n",
    "            p.depiler()\n",
    "            "
   ]
  }
 ],
 "metadata": {
  "kernelspec": {
   "display_name": "Python 3",
   "language": "python",
   "name": "python3"
  },
  "language_info": {
   "codemirror_mode": {
    "name": "ipython",
    "version": 3
   },
   "file_extension": ".py",
   "mimetype": "text/x-python",
   "name": "python",
   "nbconvert_exporter": "python",
   "pygments_lexer": "ipython3",
   "version": "3.12.1"
  }
 },
 "nbformat": 4,
 "nbformat_minor": 5
}
