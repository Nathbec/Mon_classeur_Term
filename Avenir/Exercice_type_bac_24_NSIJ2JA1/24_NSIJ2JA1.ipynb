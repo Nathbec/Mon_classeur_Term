{
 "cells": [
  {
   "cell_type": "markdown",
   "id": "37c7f9a9",
   "metadata": {},
   "source": [
    "### Exercice 2:\n",
    "\n",
    "1- "
   ]
  }
 ],
 "metadata": {
  "language_info": {
   "name": "python"
  }
 },
 "nbformat": 4,
 "nbformat_minor": 5
}
