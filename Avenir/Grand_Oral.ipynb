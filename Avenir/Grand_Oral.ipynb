{
 "cells": [
  {
   "cell_type": "markdown",
   "metadata": {},
   "source": [
    "#### Liens algorithmes aide pour le décryptage génome humain (séquençage de l'ADN, bio-informatique)\n",
    "\n",
    "### SVT->ADN \n",
    "\n",
    "### Codage ADN\n",
    "\n",
    "### Codage->chaînes de caractère(binaire)"
   ]
  },
  {
   "cell_type": "markdown",
   "metadata": {},
   "source": []
  }
 ],
 "metadata": {
  "language_info": {
   "name": "python"
  }
 },
 "nbformat": 4,
 "nbformat_minor": 2
}
