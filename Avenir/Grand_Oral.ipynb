{
 "cells": [
  {
   "cell_type": "markdown",
   "metadata": {},
   "source": [
    "Autre sujet svt: symbiose entre animaux et plantes (crabe boxeur pom-pom girl)\n",
    "\n",
    "SVT->ADN \n",
    "\n",
    "Codage->chaînes de caractère(binaire)"
   ]
  },
  {
   "cell_type": "markdown",
   "metadata": {},
   "source": []
  }
 ],
 "metadata": {
  "language_info": {
   "name": "python"
  }
 },
 "nbformat": 4,
 "nbformat_minor": 2
}
