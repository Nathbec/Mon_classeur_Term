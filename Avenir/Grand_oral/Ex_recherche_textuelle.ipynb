{
 "cells": [
  {
   "cell_type": "markdown",
   "id": "64b704c1",
   "metadata": {},
   "source": [
    "### Recherche naïve \n",
    "\n",
    "Pour réaliser une recherche naïve l'on doit décaler le motif d'un cran à chaque fois \n",
    "\n",
    "Une fois que le motif est dans une certaine position i, on doit comparer M[0..m-1] et T[i..i+m-1]. L'on réalise cette comparaison de gauche vers la droite du motif\n",
    "\n",
    "- on fait varier j de 0 à m-1\n",
    "- on s'arrête dès qu'il n'y a pas correspondance et on décale le motif à la position suivante.\n",
    "\n"
   ]
  },
  {
   "cell_type": "code",
   "execution_count": 11,
   "id": "8ff0b0f7",
   "metadata": {},
   "outputs": [],
   "source": [
    "def recherche_naive(motif: str, texte: str) -> list:\n",
    "    \"\"\"\n",
    "    Renvoie les positions où le motif est trouvé dans le texte (algorithme naïf)\n",
    "    \"\"\"\n",
    "    positions = []\n",
    "    for i in range(len(texte) - len(motif) + 1):\n",
    "        if texte[i:i+len(motif)] == motif:\n",
    "            positions.append(i)\n",
    "    return positions\n"
   ]
  },
  {
   "cell_type": "markdown",
   "id": "1efba40a",
   "metadata": {},
   "source": [
    "### Algorithme de Boyer-Moore-Horspool\n",
    "\n",
    "M glisse vers la droite mais la comparaison se fait de droite à gauche. Si un caractère ne correspond pas, on utilise des règles de décalage intelligentes pour sauter plusieurs positions.\n",
    "\n",
    "La règle du mauvais caractère consiste en :\n",
    "-  quand un caractère ne correspond pas, on regarde où il apparaît dans le motif, pour décider combien on peut décaler le motif.\n",
    "\n",
    "La règle du bon suffixe: \n",
    "-   quand une fin du motif correspond, mais le début échoue, on saute à la prochaine occurrence de ce suffixe dans le motif.\n",
    "\n",
    "Différents moyens de décalage :\n",
    "- si motif trouvé l'on décale le motif d'un cran\n",
    "- sinon le décalage se fait en fonction de la règle du mauvais "
   ]
  },
  {
   "cell_type": "code",
   "execution_count": 10,
   "id": "28fd42b7",
   "metadata": {},
   "outputs": [],
   "source": [
    "def construire_table_mauvais_caractere(motif: str) -> dict:\n",
    "    \"\"\"\n",
    "    Construit la table de décalage pour le mauvais caractère\n",
    "    \"\"\"\n",
    "    table = {}\n",
    "    for i in range(len(motif)):\n",
    "        table[motif[i]] = i  # Dernière occurrence du caractère\n",
    "    return table\n",
    "\n",
    "def boyer_moore(motif: str, texte: str) -> list:\n",
    "    \"\"\"\n",
    "    Recherche le motif dans le texte avec l'algorithme de Boyer-Moore (heuristique mauvais caractère)\n",
    "    \"\"\"\n",
    "    positions = []\n",
    "    table = construire_table_mauvais_caractere(motif)\n",
    "    n = len(texte)\n",
    "    m = len(motif)\n",
    "    i = 0\n",
    "\n",
    "    while i <= n - m:\n",
    "        j = m - 1\n",
    "        while j >= 0 and motif[j] == texte[i + j]:\n",
    "            j -= 1\n",
    "        if j < 0:\n",
    "            positions.append(i)\n",
    "            i += m  # ou on pourrait utiliser la règle du suffixe ici\n",
    "        else:\n",
    "            decalage = j - table.get(texte[i + j], -1)\n",
    "            i += max(1, decalage)\n",
    "    return positions\n"
   ]
  },
  {
   "cell_type": "markdown",
   "id": "2ed2e94f",
   "metadata": {},
   "source": [
    "### Exemples : \n",
    "\n",
    "#### Exemple du mauvais caractère:\n",
    "\n",
    "Motif = \"EXEMPLE\"\n",
    "\n",
    "Texte = \"....ABEMPLE...\"\n",
    "\n",
    "On compare \"EXEMPLE\" à \"ABEMPLE\" et ça échoue au B ≠ E.\n",
    "\n",
    "Le caractère fautif B n’est pas dans le motif → on peut sauter tout le motif → décalage = m\n",
    "\n",
    "Si le caractère fautif est dans le motif, on décale pour que la dernière occurrence de ce caractère dans le motif s’aligne avec le caractère fautif dans le texte.\n",
    "\n",
    "#### Exemple du bon suffixe :\n",
    "\n",
    "Motif = \"TATA\"\n",
    "\n",
    "Texte = \"...TATTATA...\"\n",
    "\n",
    "Quand on compare \"TATA\" à \"TATT\", on trouve que le suffixe \"TA\" correspond mais T ≠ A au début.\n",
    "\n",
    "→ On cherche le prochain endroit dans le motif où \"TA\" apparaît pour ne pas repartir de zéro."
   ]
  },
  {
   "cell_type": "code",
   "execution_count": 4,
   "id": "f738b197",
   "metadata": {},
   "outputs": [],
   "source": [
    "NO_CAR = 256 # Initialisation on suppose qu'il y a 256 caractères (ASCII)\n",
    "def recherche(txt, motif):\n",
    "    m = len(motif) # Longueur du motif\n",
    "    n = len(txt) # Longueur du texte\n",
    "    tab_car = [-1]*NO_CAR \n",
    "    for i in range(m): \n",
    "        tab_car[ord(motif[i])] = i # Donne le code ASCII du carcatère ainsi que sa dernière position\n",
    "    decalage = 0\n",
    "    res = [] # Liste des positions où le motif a été trouvé\n",
    "    while(decalage <= n-m): # Compare le motif de droite à gauche\n",
    "        j = m-1\n",
    "        while j>=0 and motif[j] == txt[decalage+j]:\n",
    "            j = j - 1\n",
    "        if j<0: # Caractères correspondent\n",
    "            res.append(decalage)\n",
    "            if decalage+m<n : # Calcule le décalage \n",
    "                decalage = decalage + m-tab_car[ord(txt[decalage+m])]\n",
    "            else :\n",
    "                decalage = decalage + 1\n",
    "        else:\n",
    "            decalage = decalage + max(1, j-tab_car[ord(txt[decalage+j])])\n",
    "    return res"
   ]
  },
  {
   "cell_type": "code",
   "execution_count": 5,
   "id": "64ed1016",
   "metadata": {},
   "outputs": [
    {
     "data": {
      "text/plain": [
       "[3, 220]"
      ]
     },
     "execution_count": 5,
     "metadata": {},
     "output_type": "execute_result"
    }
   ],
   "source": [
    "chaine =\"CAATGTCTGCACCAAGACGCCGGCAGGTGCAGACCTTCGTTATAGGCGATGATTTCGAACCTACTAGTGGGTCTCTTAGGCCGAGCGGTTCCGAGAGATAGTGAAAGATGGCTGGGCTGTGAAGGGAAGGAGTCGTGAAAGCGCGAACACGAGTGTGCGCAAGCGCAGCGCCTTAGTATGCTCCAGTGTAGAAGCTCCGGCGTCCCGTCTAACCGTACGCTGTCCCCGGTACATGGAGCTAATAGGCTTTACTGCCCAATATGACCCCGCGCCGCGACAAAACAATAACAGTTT\"\n",
    "recherche(chaine,\"TGTC\")"
   ]
  },
  {
   "cell_type": "markdown",
   "id": "02e2d822",
   "metadata": {},
   "source": []
  }
 ],
 "metadata": {
  "kernelspec": {
   "display_name": "Python 3",
   "language": "python",
   "name": "python3"
  },
  "language_info": {
   "codemirror_mode": {
    "name": "ipython",
    "version": 3
   },
   "file_extension": ".py",
   "mimetype": "text/x-python",
   "name": "python",
   "nbconvert_exporter": "python",
   "pygments_lexer": "ipython3",
   "version": "3.12.1"
  }
 },
 "nbformat": 4,
 "nbformat_minor": 5
}
