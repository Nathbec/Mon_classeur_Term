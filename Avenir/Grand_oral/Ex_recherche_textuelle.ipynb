{
 "cells": [
  {
   "cell_type": "markdown",
   "id": "64b704c1",
   "metadata": {},
   "source": [
    "### Recherche naïve \n",
    "\n",
    "Pour réaliser une recherche naïve l'on doit décaler le motif d'un cran à chaque fois \n",
    "\n",
    "Une fois que le motif est dans une certaine position i, on doit comparer M[0..m-1] et T[i..i+m-1]. L'on réalise cette comparaison de gauche vers la droite du motif\n",
    "\n",
    "- on fait varier j de 0 à m-1\n",
    "- on s'arrête dès qu'il n'y a pas correspondance et on décale le motif à la position suivante.\n",
    "\n"
   ]
  },
  {
   "cell_type": "markdown",
   "id": "1efba40a",
   "metadata": {},
   "source": [
    "### Algorithme de Boyer-Moore-Horspool\n",
    "\n",
    "M glisse vers la droite mais la comparaison se fait de droite à gauche\n",
    "\n",
    "Différents moyens de décalage :\n",
    "- si motif trouvé l'on décale le motif d'un cran\n",
    "- sinon le décalage se fait en fonction de la règle du mauvais \n",
    "\n",
    "La règle du mauvais consiste en :\n",
    "- aligner le premier caractère fautif du texte avec son occurrence la plus à droite "
   ]
  },
  {
   "cell_type": "markdown",
   "id": "f5e10663",
   "metadata": {},
   "source": []
  }
 ],
 "metadata": {
  "language_info": {
   "name": "python"
  }
 },
 "nbformat": 4,
 "nbformat_minor": 5
}
