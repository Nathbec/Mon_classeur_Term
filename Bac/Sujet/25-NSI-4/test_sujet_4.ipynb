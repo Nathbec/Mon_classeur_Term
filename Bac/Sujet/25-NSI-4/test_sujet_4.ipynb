{
 "cells": [
  {
   "cell_type": "code",
   "execution_count": 5,
   "id": "5a8151cf",
   "metadata": {},
   "outputs": [],
   "source": [
    "def ecriture_binaire_entier_positif(n):\n",
    "    binaire=\"\"\n",
    "    while n>0:\n",
    "        binaire= str(n%2) + binaire\n",
    "        n=n//2\n",
    "    return binaire"
   ]
  },
  {
   "cell_type": "code",
   "execution_count": 7,
   "id": "790a0d93",
   "metadata": {},
   "outputs": [
    {
     "data": {
      "text/plain": [
       "'1101001'"
      ]
     },
     "execution_count": 7,
     "metadata": {},
     "output_type": "execute_result"
    }
   ],
   "source": [
    "ecriture_binaire_entier_positif(105)"
   ]
  },
  {
   "cell_type": "code",
   "execution_count": null,
   "id": "ef46cbb9",
   "metadata": {},
   "outputs": [],
   "source": []
  }
 ],
 "metadata": {
  "kernelspec": {
   "display_name": "Python 3",
   "language": "python",
   "name": "python3"
  },
  "language_info": {
   "codemirror_mode": {
    "name": "ipython",
    "version": 3
   },
   "file_extension": ".py",
   "mimetype": "text/x-python",
   "name": "python",
   "nbconvert_exporter": "python",
   "pygments_lexer": "ipython3",
   "version": "3.12.1"
  }
 },
 "nbformat": 4,
 "nbformat_minor": 5
}
