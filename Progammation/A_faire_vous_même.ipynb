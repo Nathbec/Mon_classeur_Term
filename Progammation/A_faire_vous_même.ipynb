{
 "cells": [
  {
   "cell_type": "markdown",
   "metadata": {},
   "source": [
    "### A faire vous même 1:"
   ]
  },
  {
   "cell_type": "code",
   "execution_count": 2,
   "metadata": {},
   "outputs": [],
   "source": [
    "class Personnage:\n",
    "    pass\n",
    "gollum = Personnage()\n",
    "bilbo = Personnage()"
   ]
  },
  {
   "cell_type": "markdown",
   "metadata": {},
   "source": [
    "### A faire vous même 2:"
   ]
  },
  {
   "cell_type": "code",
   "execution_count": 3,
   "metadata": {},
   "outputs": [],
   "source": [
    "class Personnage:\n",
    "  pass\n",
    "gollum=Personnage()\n",
    "gollum.vie=20\n",
    "bilbo=Personnage()\n",
    "bilbo.vie=20"
   ]
  },
  {
   "cell_type": "code",
   "execution_count": 4,
   "metadata": {},
   "outputs": [
    {
     "data": {
      "text/plain": [
       "20"
      ]
     },
     "execution_count": 4,
     "metadata": {},
     "output_type": "execute_result"
    }
   ],
   "source": [
    "gollum.vie"
   ]
  },
  {
   "cell_type": "code",
   "execution_count": 5,
   "metadata": {},
   "outputs": [
    {
     "data": {
      "text/plain": [
       "20"
      ]
     },
     "execution_count": 5,
     "metadata": {},
     "output_type": "execute_result"
    }
   ],
   "source": [
    "bilbo.vie"
   ]
  },
  {
   "cell_type": "markdown",
   "metadata": {},
   "source": [
    "### A faire vous même 3:"
   ]
  },
  {
   "cell_type": "code",
   "execution_count": 6,
   "metadata": {},
   "outputs": [],
   "source": [
    "class Personnage:\n",
    "  def __init__(self):\n",
    "    self.vie=20\n",
    "gollum=Personnage()\n",
    "bilbo=Personnage()"
   ]
  },
  {
   "cell_type": "code",
   "execution_count": 7,
   "metadata": {},
   "outputs": [
    {
     "data": {
      "text/plain": [
       "20"
      ]
     },
     "execution_count": 7,
     "metadata": {},
     "output_type": "execute_result"
    }
   ],
   "source": [
    "gollum.vie"
   ]
  },
  {
   "cell_type": "code",
   "execution_count": 8,
   "metadata": {},
   "outputs": [
    {
     "data": {
      "text/plain": [
       "20"
      ]
     },
     "execution_count": 8,
     "metadata": {},
     "output_type": "execute_result"
    }
   ],
   "source": [
    "bilbo.vie"
   ]
  },
  {
   "cell_type": "code",
   "execution_count": 9,
   "metadata": {},
   "outputs": [],
   "source": [
    "class Personnage:\n",
    "  def __init__(self,nbreDeVie):\n",
    "    self.vie=nbreDeVie\n",
    "gollum=Personnage(20)\n",
    "bilbo=Personnage(15)"
   ]
  },
  {
   "cell_type": "code",
   "execution_count": 10,
   "metadata": {},
   "outputs": [
    {
     "data": {
      "text/plain": [
       "20"
      ]
     },
     "execution_count": 10,
     "metadata": {},
     "output_type": "execute_result"
    }
   ],
   "source": [
    "gollum.vie"
   ]
  },
  {
   "cell_type": "code",
   "execution_count": 11,
   "metadata": {},
   "outputs": [
    {
     "data": {
      "text/plain": [
       "15"
      ]
     },
     "execution_count": 11,
     "metadata": {},
     "output_type": "execute_result"
    }
   ],
   "source": [
    "bilbo.vie"
   ]
  },
  {
   "cell_type": "markdown",
   "metadata": {},
   "source": [
    "### A faire vous même 5:"
   ]
  },
  {
   "cell_type": "code",
   "execution_count": 12,
   "metadata": {},
   "outputs": [],
   "source": [
    "class Personnage:\n",
    "  def __init__(self, nbreDeVie):\n",
    "    self.vie=nbreDeVie\n",
    "  def donneEtat (self):\n",
    "    return self.vie\n",
    "  def perdVie (self):\n",
    "    self.vie=self.vie-1\n",
    "gollum = Personnage(20)\n",
    "bilbo = Personnage(15)"
   ]
  },
  {
   "cell_type": "code",
   "execution_count": 13,
   "metadata": {},
   "outputs": [
    {
     "data": {
      "text/plain": [
       "20"
      ]
     },
     "execution_count": 13,
     "metadata": {},
     "output_type": "execute_result"
    }
   ],
   "source": [
    "gollum.donneEtat()"
   ]
  },
  {
   "cell_type": "code",
   "execution_count": 14,
   "metadata": {},
   "outputs": [],
   "source": [
    "gollum.perdVie()"
   ]
  },
  {
   "cell_type": "code",
   "execution_count": 15,
   "metadata": {},
   "outputs": [
    {
     "data": {
      "text/plain": [
       "19"
      ]
     },
     "execution_count": 15,
     "metadata": {},
     "output_type": "execute_result"
    }
   ],
   "source": [
    "gollum.donneEtat()"
   ]
  },
  {
   "cell_type": "markdown",
   "metadata": {},
   "source": [
    "### A faire vous même 6:"
   ]
  },
  {
   "cell_type": "code",
   "execution_count": 16,
   "metadata": {},
   "outputs": [],
   "source": [
    "class Personnage:\n",
    "  def __init__(self, nbreDeVie):\n",
    "    self.vie=nbreDeVie\n",
    "  def donneEtat (self):\n",
    "    return self.vie\n",
    "  def perdVie (self):\n",
    "    self.vie=self.vie-1\n",
    "\n",
    "bilbo = Personnage(15)\n",
    "bilbo.perdVie()\n",
    "point=bilbo.donneEtat()"
   ]
  },
  {
   "cell_type": "code",
   "execution_count": 17,
   "metadata": {},
   "outputs": [
    {
     "data": {
      "text/plain": [
       "14"
      ]
     },
     "execution_count": 17,
     "metadata": {},
     "output_type": "execute_result"
    }
   ],
   "source": [
    "point"
   ]
  },
  {
   "cell_type": "markdown",
   "metadata": {},
   "source": [
    "### A faire vous même 7:"
   ]
  },
  {
   "cell_type": "code",
   "execution_count": 18,
   "metadata": {},
   "outputs": [],
   "source": [
    "class Personnage:\n",
    "  def __init__(self, nbreDeVie):\n",
    "    self.vie=nbreDeVie\n",
    "  def donneEtat (self):\n",
    "    return self.vie\n",
    "  def perdVie (self):\n",
    "    self.vie=self.vie-1\n",
    "  def boirePotion(self):\n",
    "    self.vie=self.vie+1\n",
    "gollum = Personnage(20)\n",
    "bilbo = Personnage(15)"
   ]
  },
  {
   "cell_type": "code",
   "execution_count": 19,
   "metadata": {},
   "outputs": [],
   "source": [
    "bilbo.boirePotion()"
   ]
  },
  {
   "cell_type": "code",
   "execution_count": 20,
   "metadata": {},
   "outputs": [
    {
     "data": {
      "text/plain": [
       "16"
      ]
     },
     "execution_count": 20,
     "metadata": {},
     "output_type": "execute_result"
    }
   ],
   "source": [
    "bilbo.donneEtat()"
   ]
  },
  {
   "cell_type": "markdown",
   "metadata": {},
   "source": [
    "### A faire vous même 8:"
   ]
  },
  {
   "cell_type": "code",
   "execution_count": 21,
   "metadata": {},
   "outputs": [],
   "source": [
    "class Personnage:\n",
    "  def __init__(self, nbreDeVie):\n",
    "    self.vie=nbreDeVie\n",
    "  def donneEtat (self):\n",
    "    return self.vie\n",
    "  def perdVie (self,nbPoint):\n",
    "    self.vie=self.vie-nbPoint\n",
    "bilbo = Personnage(15)\n",
    "bilbo.perdVie(2)\n",
    "point=bilbo.donneEtat()"
   ]
  },
  {
   "cell_type": "code",
   "execution_count": 22,
   "metadata": {},
   "outputs": [
    {
     "data": {
      "text/plain": [
       "13"
      ]
     },
     "execution_count": 22,
     "metadata": {},
     "output_type": "execute_result"
    }
   ],
   "source": [
    "point"
   ]
  },
  {
   "cell_type": "markdown",
   "metadata": {},
   "source": [
    "### A faire vous même 9:"
   ]
  },
  {
   "cell_type": "code",
   "execution_count": 23,
   "metadata": {},
   "outputs": [],
   "source": [
    "import random\n",
    "class Personnage:\n",
    "  def __init__(self, nbreDeVie):\n",
    "    self.vie=nbreDeVie\n",
    "  def donneEtat (self):\n",
    "    return self.vie\n",
    "  def perdVie (self):\n",
    "    if random.random()>0.5:\n",
    "      nbPoint = 1\n",
    "    else :\n",
    "      nbPoint = 2\n",
    "    self.vie=self.vie-nbPoint\n",
    "bilbo = Personnage(15)\n",
    "bilbo.perdVie()\n",
    "bilbo.perdVie()\n",
    "bilbo.perdVie()\n",
    "point=bilbo.donneEtat()"
   ]
  },
  {
   "cell_type": "code",
   "execution_count": 24,
   "metadata": {},
   "outputs": [
    {
     "data": {
      "text/plain": [
       "10"
      ]
     },
     "execution_count": 24,
     "metadata": {},
     "output_type": "execute_result"
    }
   ],
   "source": [
    "point"
   ]
  },
  {
   "cell_type": "code",
   "execution_count": 26,
   "metadata": {},
   "outputs": [
    {
     "data": {
      "text/plain": [
       "0.4356190477454368"
      ]
     },
     "execution_count": 26,
     "metadata": {},
     "output_type": "execute_result"
    }
   ],
   "source": [
    "random.random()"
   ]
  },
  {
   "cell_type": "markdown",
   "metadata": {},
   "source": [
    "### A faire vous même 10:"
   ]
  },
  {
   "cell_type": "code",
   "execution_count": 27,
   "metadata": {},
   "outputs": [],
   "source": [
    "import random\n",
    "class Personnage:\n",
    "  def __init__(self, nbreDeVie):\n",
    "    self.vie=nbreDeVie\n",
    "  def donneEtat (self):\n",
    "    return self.vie\n",
    "  def perdVie (self):\n",
    "    if random.random()>0.5:\n",
    "      nbPoint = 1\n",
    "    else :\n",
    "      nbPoint = 2\n",
    "    self.vie=self.vie-nbPoint\n",
    "def game():\n",
    "  bilbo = Personnage(20)\n",
    "  gollum = Personnage(20)\n",
    "  while bilbo.donneEtat()>0 and gollum.donneEtat()>0 :\n",
    "    bilbo.perdVie()\n",
    "    gollum.perdVie()\n",
    "  if bilbo.donneEtat()<=0 and gollum.donneEtat()>0:\n",
    "    msg = f\"Gollum est vainqueur, il lui reste encore {gollum.donneEtat()} points alors que Bilbo est mort\"\n",
    "  elif gollum.donneEtat()<=0 and bilbo.donneEtat()>0:\n",
    "    msg = f\"Bilbo est vainqueur, il lui reste encore {bilbo.donneEtat()} points alors que Gollum est mort\"\n",
    "  else :\n",
    "    msg = \"Les deux combattants sont morts en même temps\"\n",
    "  return msg"
   ]
  },
  {
   "cell_type": "markdown",
   "metadata": {},
   "source": [
    "### A coder vous même compte bancaire :"
   ]
  },
  {
   "cell_type": "code",
   "execution_count": 39,
   "metadata": {},
   "outputs": [],
   "source": [
    "class CompteBancaire :\n",
    "    def _init_(self,titulaire,solde):\n",
    "        self.nom=titulaire\n",
    "        self.argent=solde\n",
    "\n",
    "    def DonneNom(self):\n",
    "        return self.nom\n",
    "    \n",
    "    def DonneSolde(self):\n",
    "        return self.argent\n",
    "    \n",
    "    def Plusargent(self):\n",
    "        argent = 1\n",
    "        self.argent=self.argent+argent\n",
    "\n",
    "    def Moinsargent(self):\n",
    "        self.argent=self.argent-argent\n",
    "\n",
    "def piratage():\n",
    "    \n"
   ]
  },
  {
   "cell_type": "code",
   "execution_count": null,
   "metadata": {},
   "outputs": [],
   "source": []
  }
 ],
 "metadata": {
  "kernelspec": {
   "display_name": "Python 3",
   "language": "python",
   "name": "python3"
  },
  "language_info": {
   "codemirror_mode": {
    "name": "ipython",
    "version": 3
   },
   "file_extension": ".py",
   "mimetype": "text/x-python",
   "name": "python",
   "nbconvert_exporter": "python",
   "pygments_lexer": "ipython3",
   "version": "3.12.1"
  }
 },
 "nbformat": 4,
 "nbformat_minor": 2
}
