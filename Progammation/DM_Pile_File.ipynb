{
 "cells": [
  {
   "cell_type": "code",
   "execution_count": 1,
   "metadata": {},
   "outputs": [],
   "source": [
    "def ajouter(lst, proc):\n",
    "    lst.append(proc)"
   ]
  },
  {
   "cell_type": "code",
   "execution_count": 2,
   "metadata": {},
   "outputs": [
    {
     "name": "stdout",
     "output_type": "stream",
     "text": [
      "['Processus 1']\n"
     ]
    }
   ],
   "source": [
    "# Liste des processus en attente\n",
    "processus_en_attente = []\n",
    "\n",
    "# Nouveau processus à ajouter\n",
    "nouveau_processus = \"Processus 1\"\n",
    "\n",
    "# Ajout du nouveau processus à la liste\n",
    "ajouter(processus_en_attente, nouveau_processus)\n",
    "\n",
    "# Affichage de la liste mise à jour\n",
    "print(processus_en_attente)  # Output: ['Processus 1']"
   ]
  },
  {
   "cell_type": "code",
   "execution_count": 1,
   "metadata": {},
   "outputs": [
    {
     "name": "stdout",
     "output_type": "stream",
     "text": [
      "Affichage de la pile :\n",
      "        30 :\n",
      "        20 :\n",
      "        10 :\n"
     ]
    }
   ],
   "source": [
    "class Cellule:\n",
    "    def __init__(self, valeur, suivante):\n",
    "        self.valeur = valeur\n",
    "        self.suivante = suivante\n",
    "\n",
    "    def __repr__(self):\n",
    "        return str(self.valeur)\n",
    "\n",
    "class PListe:\n",
    "    def __init__(self):\n",
    "        \"\"\"Crée une liste VIDE\"\"\"\n",
    "        self.tete = None\n",
    "\n",
    "    def insere(self, valeur):\n",
    "        \"\"\"Insère une valeur (en tant qu'instance de la classe Cellule) EN TÊTE de liste\"\"\"\n",
    "        self.tete = Cellule(valeur, self.tete)\n",
    "\n",
    "    def est_vide(self):\n",
    "        \"\"\"Vérifie si la liste est vide\"\"\"\n",
    "        return self.tete is None\n",
    "\n",
    "    def longueur(self):\n",
    "        \"\"\"Renvoie la longueur de la liste\"\"\"\n",
    "        if self.est_vide():\n",
    "            return 0\n",
    "        else:\n",
    "            cellule = self.tete\n",
    "            long = 1\n",
    "            while cellule.suivante is not None:\n",
    "                long += 1\n",
    "                cellule = cellule.suivante\n",
    "            return long\n",
    "\n",
    "    def depile(self):\n",
    "        \"\"\"Dépile l'élément de tête et renvoie sa valeur.\"\"\"\n",
    "        if self.est_vide():\n",
    "            raise IndexError(\"La liste est vide, impossible de dépiler.\")\n",
    "        \n",
    "        # Stocker la valeur de la cellule de tête\n",
    "        valeur = self.tete.valeur\n",
    "        \n",
    "        # Mettre à jour la tête pour pointer vers la cellule suivante\n",
    "        self.tete = self.tete.suivante\n",
    "        \n",
    "        return valeur\n",
    "\n",
    "    def affichage(self):\n",
    "        \"\"\"Affiche la pile de manière formatée.\"\"\"\n",
    "        if self.est_vide():\n",
    "            print(\"La pile est vide.\")\n",
    "            return\n",
    "        \n",
    "        # On parcourt la liste pour récupérer les valeurs\n",
    "        valeurs = []\n",
    "        cellule = self.tete\n",
    "        while cellule is not None:\n",
    "            valeurs.append(cellule.valeur)\n",
    "            cellule = cellule.suivante\n",
    "        \n",
    "        # Affichage des valeurs avec le format requis\n",
    "        print(\"Affichage de la pile :\")\n",
    "        for i, valeur in enumerate(reversed(valeurs), start=1):\n",
    "            print(f\"{str(valeur).rjust(10)} :\")  # Formatage à droite sur 10 caractères\n",
    "\n",
    "# Exemple d'utilisation\n",
    "pli = PListe()\n",
    "pli.insere(30)\n",
    "pli.insere(20)\n",
    "pli.insere(10)\n",
    "\n",
    "# Affichage de la pile\n",
    "pli.affichage()\n"
   ]
  },
  {
   "cell_type": "code",
   "execution_count": null,
   "metadata": {},
   "outputs": [],
   "source": []
  }
 ],
 "metadata": {
  "kernelspec": {
   "display_name": "Python 3",
   "language": "python",
   "name": "python3"
  },
  "language_info": {
   "codemirror_mode": {
    "name": "ipython",
    "version": 3
   },
   "file_extension": ".py",
   "mimetype": "text/x-python",
   "name": "python",
   "nbconvert_exporter": "python",
   "pygments_lexer": "ipython3",
   "version": "3.12.1"
  }
 },
 "nbformat": 4,
 "nbformat_minor": 2
}
