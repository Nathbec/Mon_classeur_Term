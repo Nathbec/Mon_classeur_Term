{
 "cells": [
  {
   "cell_type": "markdown",
   "metadata": {},
   "source": [
    "#### Activité 10.1\n",
    "\n",
    "1-On est à A noir dans f. Le reste est blanc\n",
    "2-On est à B qui devient blanc dans f. Le reste est blanc \n",
    "3-On est à D qui devient blanc dans f. Le reste est blanc \n",
    "4-On est à C qui devient blanc dans f. Le reste est blanc \n",
    "5-On est à E qui devient blanc dans f. Le reste est blanc \n",
    "\n",
    "#### Activité 10.2\n",
    "\n",
    "Algorithme récursif:\n",
    "\n",
    "1-On est à A noir dans f. Le reste est blanc\n",
    "2-On est à B qui devient blanc dans f. Le reste est blanc\n",
    "3-On est à E qui devient blanc dans f. Le reste est blanc\n",
    "4-On est à D qui devient blanc dans f. Le reste est blanc\n",
    "5-On est à C qui devient blanc dans f. Le reste est blanc\n",
    "\n",
    "#### Activité 10.3\n",
    "\n",
    "\n",
    "\n"
   ]
  }
 ],
 "metadata": {
  "language_info": {
   "name": "python"
  }
 },
 "nbformat": 4,
 "nbformat_minor": 2
}
