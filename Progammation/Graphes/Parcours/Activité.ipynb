{
 "cells": [
  {
   "cell_type": "markdown",
   "metadata": {},
   "source": [
    "#### Activité 10.1\n",
    "\n",
    "1-On est à A noir dans f. Le reste est blanc\n",
    "2-On est à B qui devient blanc dans f. Le reste est blanc \n",
    "3-On est à D qui devient blanc dans f. Le reste est blanc \n",
    "4-On est à C qui devient blanc dans f. Le reste est blanc \n",
    "5-On est à E qui devient blanc dans f. Le reste est blanc \n",
    "\n",
    "#### Activité 10.2\n",
    "\n",
    "Algorithme récursif:\n",
    "\n",
    "1-On est à A noir dans f. Le reste est blanc\n",
    "2-On est à B qui devient blanc dans f. Le reste est blanc\n",
    "3-On est à E qui devient blanc dans f. Le reste est blanc\n",
    "4-On est à D qui devient blanc dans f. Le reste est blanc\n",
    "5-On est à C qui devient blanc dans f. Le reste est blanc\n",
    "\n",
    "#### Activité 10.3\n",
    "\n",
    "on a aucun cycle car on sera obligé de faire demi-tour pour revenir au point de départ\n",
    "\n",
    "#### Activité 10.4\n",
    "\n",
    "on pourra faire au moins un cycle si on ne part pas du point E, car si on part de celui-ci on sera obligé de faire demi-tour\n",
    "\n",
    "##### Activité 10.6\n",
    "\n",
    "1) "
   ]
  }
 ],
 "metadata": {
  "kernelspec": {
   "display_name": "Python 3",
   "language": "python",
   "name": "python3"
  },
  "language_info": {
   "codemirror_mode": {
    "name": "ipython",
    "version": 3
   },
   "file_extension": ".py",
   "mimetype": "text/x-python",
   "name": "python",
   "nbconvert_exporter": "python",
   "pygments_lexer": "ipython3",
   "version": "3.12.1"
  }
 },
 "nbformat": 4,
 "nbformat_minor": 2
}
