{
 "cells": [
  {
   "cell_type": "markdown",
   "metadata": {},
   "source": [
    "#### Exercices 10.1\n",
    "\n",
    "1)"
   ]
  },
  {
   "cell_type": "code",
   "execution_count": null,
   "metadata": {},
   "outputs": [],
   "source": [
    "G1 = nx.Graph()\n",
    "G1.add_edges_from([(\"A\",\"B\"),(\"A\",\"C\"),(\"A\",\"H\"),(\"B\",\"I\"),(\"C\",\"D\"),(\"C\",\"E\"),(\"D\",\"E\"),(\"E\",\"G\"),(\"F\",\"G\"),(\"F\",\"I\"),(\"G\",\"H\"),(\"H\",\"I\")])\n",
    "plt.clf()\n",
    "nx.draw(G1, with_labels=True)\n",
    "plt.show()"
   ]
  },
  {
   "cell_type": "markdown",
   "metadata": {},
   "source": []
  }
 ],
 "metadata": {
  "language_info": {
   "name": "python"
  }
 },
 "nbformat": 4,
 "nbformat_minor": 2
}
