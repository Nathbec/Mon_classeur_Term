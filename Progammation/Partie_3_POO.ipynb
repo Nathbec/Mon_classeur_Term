{
 "cells": [
  {
   "cell_type": "code",
   "execution_count": 11,
   "metadata": {},
   "outputs": [],
   "source": [
    "class Cellule:\n",
    "    def __init__(self, valeur, suivante):\n",
    "        self.valeur = valeur\n",
    "        self.suivante = suivante\n",
    "    def __repr__(self):\n",
    "        return str(self.valeur)\n",
    "class PListe:\n",
    "    def __init__(self):\n",
    "        \"\"\"Crée une liste VIDE\"\"\"\n",
    "        self.tete = None\n",
    "    def insere(self, valeur):\n",
    "        \"\"\"Insère une valeur (en tant qu'instance de\n",
    "        la classe Cellule) EN TÊTE de liste\"\"\"\n",
    "        self.tete = Cellule(valeur, self.tete)\n",
    "    def est_vide(self):\n",
    "        return self.tete is None\n",
    "    def longueur(self):\n",
    "        if self.est_vide():\n",
    "            return 0\n",
    "        else:\n",
    "            cellule = self.tete\n",
    "            long = 1\n",
    "        while cellule.suivante is not None:\n",
    "            long += 1\n",
    "            cellule = cellule.suivante\n",
    "        return long"
   ]
  },
  {
   "cell_type": "markdown",
   "metadata": {},
   "source": [
    "### 1 question"
   ]
  },
  {
   "cell_type": "code",
   "execution_count": 7,
   "metadata": {},
   "outputs": [],
   "source": [
    "pliv=PListe()"
   ]
  },
  {
   "cell_type": "markdown",
   "metadata": {},
   "source": [
    "### 2 question"
   ]
  },
  {
   "cell_type": "markdown",
   "metadata": {},
   "source": [
    "Oui il est possible mais il faut modifier la Class PListe"
   ]
  },
  {
   "cell_type": "code",
   "execution_count": 9,
   "metadata": {},
   "outputs": [],
   "source": [
    "class PListe:\n",
    "    def __init__(self,valeur):\n",
    "        return self.tete == valeur"
   ]
  },
  {
   "cell_type": "markdown",
   "metadata": {},
   "source": [
    "### 3 question"
   ]
  },
  {
   "cell_type": "code",
   "execution_count": 41,
   "metadata": {},
   "outputs": [],
   "source": [
    "pli=PListe()\n",
    "pli.insere(30)\n",
    "pli.insere(20)\n",
    "pli.insere(10)"
   ]
  },
  {
   "cell_type": "markdown",
   "metadata": {},
   "source": [
    "### 4 question "
   ]
  },
  {
   "cell_type": "code",
   "execution_count": 14,
   "metadata": {},
   "outputs": [],
   "source": [
    "def ieme_element(self,i):\n",
    "    cellule=self.tete\n",
    "    for i in range (1,i):\n",
    "        cellule=cellule.suivante\n",
    "    return cellule.valeur"
   ]
  },
  {
   "cell_type": "code",
   "execution_count": 35,
   "metadata": {},
   "outputs": [
    {
     "data": {
      "text/plain": [
       "20"
      ]
     },
     "execution_count": 35,
     "metadata": {},
     "output_type": "execute_result"
    }
   ],
   "source": [
    "ieme_element(pli,2)"
   ]
  },
  {
   "cell_type": "markdown",
   "metadata": {},
   "source": [
    "### 5 question"
   ]
  },
  {
   "cell_type": "code",
   "execution_count": 36,
   "metadata": {},
   "outputs": [],
   "source": [
    "def depile(self):\n",
    "    assert not self.est_vide(),\"Pile vide\"\n",
    "    valeur = self.tete.valeur\n",
    "    self.tete = self.tete.suivante\n",
    "    return valeur"
   ]
  },
  {
   "cell_type": "code",
   "execution_count": 40,
   "metadata": {},
   "outputs": [
    {
     "ename": "AssertionError",
     "evalue": "Pile vide",
     "output_type": "error",
     "traceback": [
      "\u001b[0;31m---------------------------------------------------------------------------\u001b[0m",
      "\u001b[0;31mAssertionError\u001b[0m                            Traceback (most recent call last)",
      "Cell \u001b[0;32mIn[40], line 1\u001b[0m\n\u001b[0;32m----> 1\u001b[0m \u001b[43mdepile\u001b[49m\u001b[43m(\u001b[49m\u001b[43mpli\u001b[49m\u001b[43m)\u001b[49m\n",
      "Cell \u001b[0;32mIn[36], line 2\u001b[0m, in \u001b[0;36mdepile\u001b[0;34m(self)\u001b[0m\n\u001b[1;32m      1\u001b[0m \u001b[38;5;28;01mdef\u001b[39;00m \u001b[38;5;21mdepile\u001b[39m(\u001b[38;5;28mself\u001b[39m):\n\u001b[0;32m----> 2\u001b[0m     \u001b[38;5;28;01massert\u001b[39;00m \u001b[38;5;129;01mnot\u001b[39;00m \u001b[38;5;28mself\u001b[39m\u001b[38;5;241m.\u001b[39mest_vide(),\u001b[38;5;124m\"\u001b[39m\u001b[38;5;124mPile vide\u001b[39m\u001b[38;5;124m\"\u001b[39m\n\u001b[1;32m      3\u001b[0m     valeur \u001b[38;5;241m=\u001b[39m \u001b[38;5;28mself\u001b[39m\u001b[38;5;241m.\u001b[39mtete\u001b[38;5;241m.\u001b[39mvaleur\n\u001b[1;32m      4\u001b[0m     \u001b[38;5;28mself\u001b[39m\u001b[38;5;241m.\u001b[39mtete \u001b[38;5;241m=\u001b[39m \u001b[38;5;28mself\u001b[39m\u001b[38;5;241m.\u001b[39mtete\u001b[38;5;241m.\u001b[39msuivante\n",
      "\u001b[0;31mAssertionError\u001b[0m: Pile vide"
     ]
    }
   ],
   "source": [
    "depile(pli)"
   ]
  },
  {
   "cell_type": "markdown",
   "metadata": {},
   "source": [
    "### 6 question"
   ]
  },
  {
   "cell_type": "code",
   "execution_count": 43,
   "metadata": {},
   "outputs": [],
   "source": [
    "def affichage (self):\n",
    "    assert not self.est_vide(),\"Pile vide\"\n",
    "    cellule = self.tete\n",
    "    index = 1\n",
    "    while cellule is not None:\n",
    "        # Affichage de chaque valeur avec le format requis\n",
    "        print(f\"{str(index).ljust(2)}: {str(cellule.valeur).rjust(10)}\")\n",
    "        cellule = cellule.suivante\n",
    "        index += 1"
   ]
  },
  {
   "cell_type": "code",
   "execution_count": 44,
   "metadata": {},
   "outputs": [
    {
     "name": "stdout",
     "output_type": "stream",
     "text": [
      "1 :         10\n",
      "2 :         20\n",
      "3 :         30\n"
     ]
    }
   ],
   "source": [
    "affichage(pli)"
   ]
  },
  {
   "cell_type": "markdown",
   "metadata": {},
   "source": [
    "### 7 question"
   ]
  },
  {
   "cell_type": "code",
   "execution_count": 45,
   "metadata": {},
   "outputs": [],
   "source": [
    "def neg (self):\n",
    "    assert not self.est_vide(),\"Pile vide\"\n",
    "    self.tete.valeur = self.tete.valeur"
   ]
  },
  {
   "cell_type": "markdown",
   "metadata": {},
   "source": [
    "### 8 question"
   ]
  },
  {
   "cell_type": "code",
   "execution_count": 46,
   "metadata": {},
   "outputs": [],
   "source": [
    "def plus (self):\n",
    "    assert self.longueur.est_vide()>=2, \"Doit contenir au moins 2 elements\"\n",
    "    premier =self.depile()\n",
    "    second = self.depile()\n",
    "    resultat= premier+second\n",
    "    return self.insere(resultat)"
   ]
  },
  {
   "cell_type": "markdown",
   "metadata": {},
   "source": [
    "### 9 question"
   ]
  },
  {
   "cell_type": "code",
   "execution_count": 47,
   "metadata": {},
   "outputs": [],
   "source": [
    "def moins (self):\n",
    "    assert self.longueur.est_vide()>=2, \"Doit contenir au moins 2 elements\"\n",
    "    premier =self.depile()\n",
    "    second = self.depile()\n",
    "    resultat= premier-second\n",
    "    return self.insere(resultat)"
   ]
  },
  {
   "cell_type": "code",
   "execution_count": null,
   "metadata": {},
   "outputs": [],
   "source": []
  }
 ],
 "metadata": {
  "kernelspec": {
   "display_name": "Python 3",
   "language": "python",
   "name": "python3"
  },
  "language_info": {
   "codemirror_mode": {
    "name": "ipython",
    "version": 3
   },
   "file_extension": ".py",
   "mimetype": "text/x-python",
   "name": "python",
   "nbconvert_exporter": "python",
   "pygments_lexer": "ipython3",
   "version": "3.12.1"
  }
 },
 "nbformat": 4,
 "nbformat_minor": 2
}
