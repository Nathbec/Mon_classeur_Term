{
 "cells": [
  {
   "cell_type": "markdown",
   "metadata": {},
   "source": [
    "Question 1: \n",
    "\n",
    "|Numéro du périphérique|Adresse|Opération|Réponse de l'ordonnanceur|\n",
    "|:-:|:-:|:-:|:-:|\n",
    "|0|10|écriture|OK|\n",
    "|1|11|lecture|OK|\n",
    "|2|10|lecture|ATT|\n",
    "|3|10|écriture|ATT|\n",
    "|0|12|lecture|OK|\n",
    "|1|10|lecture|OK|\n",
    "|2|10|lecture|OK|\n",
    "|3|10|écriture|ATT|\n",
    "\n",
    "Question 2: \n",
    "\n",
    "Le périphérique 1 devra attendre \n",
    "\n",
    "Question 3:  \n",
    "a) Premier tour: Périphérique 0 peut écrire alors que Périphérique 1 doit attendre \n",
    "\n",
    "Deuxième tour: Périphérique 1 pourra lire alors que Périphérique 0 doit attendre\n",
    "\n",
    "Troisième tour: Périphérique 0 pourra écrire alors que Périphérique 1 doit attendre\n",
    "\n",
    "Quatrième tour: Périphérique 0 pourra écrire alors que Périphérique 1 doit attendre\n",
    "\n",
    "b) 1 fois\n",
    "\n",
    "Question 4:\n",
    "\n",
    "|Tour|Numéro du périphérique|Adresse|Opération|Réponse de l'ordonnanceur|ATT_L|ATT_E|\n",
    "|:-:|:-:|:-:|:-:|:-:|:-:|:-:|\n",
    "|1|0|10|écriture|OK|vide|vide|\n",
    "|1|1|10|lecture|ATT|(1,10)|vide|\n",
    "|1|2|11|écriture|OK|(1,10)|vide|\n",
    "|1|3|11|lecture|ATT|(1,10)(3,11)|vide|\n",
    "|2|1|10|lecture|OK|(3,11)|vide|\n",
    "|2|3|11|lecture|OK|vide|vide|\n",
    "|2|0|10|écriture|ATT|vide|(0,10)|\n",
    "|2|2|12|écriture|OK|vide|(0,10)|\n",
    "|3|0|10|écriture|OK|vide|vide|\n",
    "|3|1|10|lecture|ATT|(1,10)|vide|\n",
    "|3|2|11|écriture|OK|(1,10)|vide|\n",
    "|3|3|12|lecture|OK|(1,10)|vide|\n"
   ]
  },
  {
   "cell_type": "markdown",
   "metadata": {},
   "source": [
    "Question 5 :\n",
    "\n",
    "a) e0 --- Non ---\n",
    "                Et --- s\n",
    "   e1 -----------\n",
    "\n",
    "b) e0 -----------\n",
    "                Et --- s\n",
    "   e1 --- Non ---\n",
    "\n",
    "c) e1 --- Non ---\n",
    "                Et --- s\n",
    "   e0 --- Non ---"
   ]
  },
  {
   "cell_type": "markdown",
   "metadata": {},
   "source": []
  }
 ],
 "metadata": {
  "language_info": {
   "name": "python"
  }
 },
 "nbformat": 4,
 "nbformat_minor": 2
}
