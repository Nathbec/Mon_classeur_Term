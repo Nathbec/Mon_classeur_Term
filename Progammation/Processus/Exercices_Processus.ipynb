{
 "cells": [
  {
   "cell_type": "markdown",
   "metadata": {},
   "source": [
    "Question 1: \n",
    "\n",
    "|Numéro du périphérique|Adresse|Opération|Réponse de l'ordonnanceur|\n",
    "|:-:|:-:|:-:|:-:|\n",
    "|0|10|écriture|OK|\n",
    "|1|11|lecture|OK|\n",
    "|2|10|lecture|ATT|\n",
    "|3|10|écriture|ATT|\n",
    "|0|12|lecture|OK|\n",
    "|1|10|lecture|OK|\n",
    "|2|10|lecture|OK|\n",
    "|3|10|écriture|ATT|\n",
    "\n",
    "Question 2: \n",
    "\n",
    "Le périphérique 1 devra attendre \n",
    "\n",
    "Question 3:  \n",
    "a) Premier tour: Périphérique 0 peut écrire alors que Périphérique 1 doit attendre \n",
    "\n",
    "Deuxième tour: Périphérique 1 pourra lire alors que Périphérique 0 doit attendre\n",
    "\n",
    "Troisième tour: Périphérique 0 pourra écrire alors que Périphérique 1 doit attendre\n",
    "\n",
    "Quatrième tour: Périphérique 0 pourra écrire alors que Périphérique 1 doit attendre\n",
    "\n",
    "b) 1 fois\n",
    "\n",
    "\n"
   ]
  },
  {
   "cell_type": "markdown",
   "metadata": {},
   "source": []
  }
 ],
 "metadata": {
  "language_info": {
   "name": "python"
  }
 },
 "nbformat": 4,
 "nbformat_minor": 2
}
