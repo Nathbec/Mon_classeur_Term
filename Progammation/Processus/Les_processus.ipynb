{
 "cells": [
  {
   "cell_type": "markdown",
   "metadata": {},
   "source": [
    "### A faire vous même n°1\n",
    "\n",
    "PID est 2\n",
    "\n",
    "PPID est init\n"
   ]
  },
  {
   "cell_type": "markdown",
   "metadata": {},
   "source": []
  }
 ],
 "metadata": {
  "language_info": {
   "name": "python"
  }
 },
 "nbformat": 4,
 "nbformat_minor": 2
}
