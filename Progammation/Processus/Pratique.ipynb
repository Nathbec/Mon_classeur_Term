{
 "cells": [
  {
   "cell_type": "code",
   "execution_count": 5,
   "metadata": {},
   "outputs": [],
   "source": [
    "class Processus:\n",
    "    \"\"\"Classe définissant un processus\"\"\"\n",
    "    def __init__(self, pid, duree):\n",
    "        self.pid = pid\n",
    "        self._duree = duree  # ne pas modifier cet attribut\n",
    "\n",
    "    def execute(self, quantum):\n",
    "        \"\"\"Diminue la durée d'exécution restante de quantum. Bloque à 0\"\"\"\n",
    "        self._duree = max(0, self._duree - quantum)\n",
    "\n",
    "    def est_fini(self):\n",
    "        \"\"\"Renvoie le booléen répondant à la question 'Le processus est-il terminé ?'\"\"\"\n",
    "        return self._duree == 0\n",
    "\n",
    "    def __repr__(self):\n",
    "        \"\"\"Affichage\"\"\"\n",
    "        return f\"(PID={self.pid} ; durée={self._duree})\""
   ]
  },
  {
   "cell_type": "code",
   "execution_count": 18,
   "metadata": {},
   "outputs": [],
   "source": [
    "class File():\n",
    "    def __init__(self):\n",
    "        self.file = []\n",
    "\n",
    "    def est_vide(self):\n",
    "        return len(self.file) == 0\n",
    "\n",
    "    def enfile(self, elt):\n",
    "        self.file.append(elt)\n",
    "\n",
    "    def defile(self):\n",
    "        assert not self.est_vide(), \"une file vide ne peut être défilée\"\n",
    "        return self.file.pop(0)\n",
    "\n",
    "    def tete(self):\n",
    "        return self.file[0]\n",
    "\n",
    "    def __repr__(self):\n",
    "        return str(self.file)"
   ]
  },
  {
   "cell_type": "markdown",
   "metadata": {},
   "source": [
    "Processus et tourniquet:"
   ]
  },
  {
   "cell_type": "code",
   "execution_count": 7,
   "metadata": {},
   "outputs": [],
   "source": [
    "def tourniquet(file, quantum):\n",
    "    ordre = []\n",
    "    while not file.est_vide():\n",
    "        processus = file.defile()\n",
    "        ordre.append(processus.pid)\n",
    "        processus.execute(quantum)\n",
    "        if not processus.est_fini():\n",
    "            file.enfile(processus)\n",
    "    return ordre"
   ]
  },
  {
   "cell_type": "code",
   "execution_count": 8,
   "metadata": {},
   "outputs": [],
   "source": [
    "f = File()"
   ]
  },
  {
   "cell_type": "code",
   "execution_count": 9,
   "metadata": {},
   "outputs": [],
   "source": [
    "f.enfile(Processus(0, 5))"
   ]
  },
  {
   "cell_type": "code",
   "execution_count": 10,
   "metadata": {},
   "outputs": [],
   "source": [
    "f.enfile(Processus(1, 2))"
   ]
  },
  {
   "cell_type": "code",
   "execution_count": 11,
   "metadata": {},
   "outputs": [
    {
     "name": "stdout",
     "output_type": "stream",
     "text": [
      "[0, 1, 0, 1, 0, 0, 0]\n"
     ]
    }
   ],
   "source": [
    "print(tourniquet(f, 1))"
   ]
  },
  {
   "cell_type": "markdown",
   "metadata": {},
   "source": [
    "Etat d'un processus"
   ]
  },
  {
   "cell_type": "code",
   "execution_count": 12,
   "metadata": {},
   "outputs": [],
   "source": [
    "class Processus():\n",
    "\n",
    "    def __init__(self, nom, duree, arrivee=0):\n",
    "        self.etat = \"non créé\"\n",
    "        self.nom = nom\n",
    "        self.duree = duree\n",
    "        self.arrivee = arrivee\n",
    "        self.temps_aloue = 0\n",
    "        \n",
    "    def elit(self, quantum):\n",
    "        self.temps_aloue = quantum\n",
    "        self.etat = \"élu\"\n",
    "        \n",
    "    def execute(self):\n",
    "        self.duree = self.duree - 1\n",
    "        self.temps_aloue = self.temps_aloue - 1\n",
    "        if self.duree == 0:\n",
    "            self.etat = \"terminé\"\n",
    "        elif self.temps_aloue == 0:\n",
    "            self.etat = \"prêt\"\n",
    "            \n",
    "    def est_pret(self, horloge):\n",
    "        if self.arrivee == horloge:\n",
    "            self.etat = \"prêt\"\n",
    "        return True\n",
    "    \n",
    "    def bloque(self):\n",
    "        self.etat = \"bloqué\"\n",
    "        \n",
    "    def debloque(self):\n",
    "        self.etat = \"prêt\"          \n",
    "\n",
    "    def __repr__(self):\n",
    "        return str({ \"etat\": self.etat, \"nom\":self.nom, \"arrivee\" :self.arrivee, \"duree\":self.duree})"
   ]
  },
  {
   "cell_type": "markdown",
   "metadata": {},
   "source": [
    "Ordonnance de processus"
   ]
  },
  {
   "cell_type": "code",
   "execution_count": 33,
   "metadata": {},
   "outputs": [],
   "source": [
    "QUANTUM = 2\n",
    "def temps_execution(arrivees, quantum):\n",
    "    tps_execution = {}\n",
    "    temps_horloge = 0\n",
    "    file_attente = File()\n",
    "    terminee = False\n",
    "    processus_courant = None\n",
    "    while not (arrivees.est_vide() and file_attente.est_vide() and processus_courant == None):\n",
    "        \n",
    "        if  not arrivees.est_vide() and arrivees.tete().est_pret(temps_horloge):\n",
    "            file_attente.enfile(arrivees.defile())\n",
    "            \n",
    "        if processus_courant != None and processus_courant.etat == \"prêt\":\n",
    "                file_attente.enfile(processus_courant)\n",
    "                processus_courant = None\n",
    "                    \n",
    "        if processus_courant == None and not file_attente.est_vide():\n",
    "            processus_courant = file_attente.defile()\n",
    "            processus_courant.elit(quantum)\n",
    "            debut_quantun = temps_horloge \n",
    "        \n",
    "        temps_horloge = temps_horloge + 1\n",
    "        if processus_courant != None:\n",
    "            processus_courant.execute()\n",
    "            if processus_courant.etat != \"élu\":\n",
    "                if processus_courant.nom in tps_execution:\n",
    "                    tps_execution[processus_courant.nom].append((debut_quantun,temps_horloge))\n",
    "                else:\n",
    "                    tps_execution[processus_courant.nom] = [(debut_quantun,temps_horloge)]\n",
    "                if processus_courant.etat == \"terminé\":\n",
    "                    processus_courant = None\n",
    "\n",
    "        \n",
    "    return tps_execution"
   ]
  },
  {
   "cell_type": "code",
   "execution_count": 34,
   "metadata": {},
   "outputs": [],
   "source": [
    "QUANTUM = 2"
   ]
  },
  {
   "cell_type": "code",
   "execution_count": 35,
   "metadata": {},
   "outputs": [],
   "source": [
    "arrivees = File()"
   ]
  },
  {
   "cell_type": "code",
   "execution_count": 36,
   "metadata": {},
   "outputs": [],
   "source": [
    "arrivees.enfile(Processus(\"P1\", arrivee = 0, duree = 1))"
   ]
  },
  {
   "cell_type": "code",
   "execution_count": 39,
   "metadata": {},
   "outputs": [
    {
     "data": {
      "text/plain": [
       "{'P1': [(0, 2), (2, 3)]}"
      ]
     },
     "execution_count": 39,
     "metadata": {},
     "output_type": "execute_result"
    }
   ],
   "source": [
    "temps_execution(arrivees, QUANTUM)"
   ]
  },
  {
   "cell_type": "code",
   "execution_count": 38,
   "metadata": {},
   "outputs": [],
   "source": [
    "arrivees = File()\n",
    "arrivees.enfile(Processus(\"P1\", arrivee = 0, duree = 3))"
   ]
  },
  {
   "cell_type": "code",
   "execution_count": null,
   "metadata": {},
   "outputs": [],
   "source": []
  }
 ],
 "metadata": {
  "kernelspec": {
   "display_name": "Python 3",
   "language": "python",
   "name": "python3"
  },
  "language_info": {
   "codemirror_mode": {
    "name": "ipython",
    "version": 3
   },
   "file_extension": ".py",
   "mimetype": "text/x-python",
   "name": "python",
   "nbconvert_exporter": "python",
   "pygments_lexer": "ipython3",
   "version": "3.12.1"
  }
 },
 "nbformat": 4,
 "nbformat_minor": 2
}
