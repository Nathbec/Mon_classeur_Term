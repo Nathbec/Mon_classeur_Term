{
 "cells": [
  {
   "cell_type": "code",
   "execution_count": 2,
   "metadata": {},
   "outputs": [],
   "source": [
    "class Processus:\n",
    "    \"\"\"Classe définissant un processus\"\"\"\n",
    "    def __init__(self, pid, duree):\n",
    "        self.pid = pid\n",
    "        self._duree = duree  # ne pas modifier cet attribut\n",
    "\n",
    "    def execute(self, quantum):\n",
    "        \"\"\"Diminue la durée d'exécution restante de quantum. Bloque à 0\"\"\"\n",
    "        self._duree = max(0, self._duree - quantum)\n",
    "\n",
    "    def est_fini(self):\n",
    "        \"\"\"Renvoie le booléen répondant à la question 'Le processus est-il terminé ?'\"\"\"\n",
    "        return self._duree == 0\n",
    "\n",
    "    def __repr__(self):\n",
    "        \"\"\"Affichage\"\"\"\n",
    "        return f\"(PID={self.pid} ; durée={self._duree})\""
   ]
  },
  {
   "cell_type": "code",
   "execution_count": 1,
   "metadata": {},
   "outputs": [],
   "source": [
    "from collections import deque\n",
    "\n",
    "class File:\n",
    "    \"\"\"Classe définissant une structure de file\"\"\"\n",
    "\n",
    "    def __init__(self):\n",
    "        self.valeurs = deque([])\n",
    "\n",
    "    def est_vide(self):\n",
    "        \"\"\"Renvoie le booléen True si la file est vide, False sinon\"\"\"\n",
    "        return len(self.valeurs) == 0\n",
    "\n",
    "    def enfile(self, x):\n",
    "        \"\"\"Place x à la queue de la file\"\"\"\n",
    "        self.valeurs.appendleft(x)\n",
    "\n",
    "    def defile(self):\n",
    "        \"\"\"Retire et renvoie l'élément placé à la tête de la file.\n",
    "        Provoque une erreur si la file est vide\n",
    "        \"\"\"\n",
    "        if self.est_vide():\n",
    "            raise ValueError(\"La file est vide\")\n",
    "        return self.valeurs.pop()\n",
    "\n",
    "    def __repr__(self):\n",
    "        \"\"\"Convertit la file en une chaîne de caractères\"\"\"\n",
    "        return f\"{list(self.valeurs)}\""
   ]
  },
  {
   "cell_type": "markdown",
   "metadata": {},
   "source": [
    "Processus et tourniquet:"
   ]
  },
  {
   "cell_type": "code",
   "execution_count": 14,
   "metadata": {},
   "outputs": [],
   "source": [
    "def tourniquet(file, quantum):\n",
    "    ordre = []\n",
    "    while not file.est_vide():\n",
    "        processus = file.defile()\n",
    "        ordre.append(processus.pid)\n",
    "        processus.execute(quantum)\n",
    "        if not processus.est_fini():\n",
    "            file.enfile(processus)\n",
    "    return ordre"
   ]
  },
  {
   "cell_type": "code",
   "execution_count": 15,
   "metadata": {},
   "outputs": [],
   "source": [
    "f = File()"
   ]
  },
  {
   "cell_type": "code",
   "execution_count": 16,
   "metadata": {},
   "outputs": [],
   "source": [
    "f.enfile(Processus(0, 5))"
   ]
  },
  {
   "cell_type": "code",
   "execution_count": 17,
   "metadata": {},
   "outputs": [],
   "source": [
    "f.enfile(Processus(1, 2))"
   ]
  },
  {
   "cell_type": "code",
   "execution_count": 18,
   "metadata": {},
   "outputs": [
    {
     "name": "stdout",
     "output_type": "stream",
     "text": [
      "[0, 1, 0, 1, 0, 0, 0]\n"
     ]
    }
   ],
   "source": [
    "print(tourniquet(f, 1))"
   ]
  },
  {
   "cell_type": "markdown",
   "metadata": {},
   "source": [
    "Etat d'un processus"
   ]
  },
  {
   "cell_type": "code",
   "execution_count": null,
   "metadata": {},
   "outputs": [],
   "source": []
  }
 ],
 "metadata": {
  "kernelspec": {
   "display_name": "Python 3",
   "language": "python",
   "name": "python3"
  },
  "language_info": {
   "codemirror_mode": {
    "name": "ipython",
    "version": 3
   },
   "file_extension": ".py",
   "mimetype": "text/x-python",
   "name": "python",
   "nbconvert_exporter": "python",
   "pygments_lexer": "ipython3",
   "version": "3.12.1"
  }
 },
 "nbformat": 4,
 "nbformat_minor": 2
}
