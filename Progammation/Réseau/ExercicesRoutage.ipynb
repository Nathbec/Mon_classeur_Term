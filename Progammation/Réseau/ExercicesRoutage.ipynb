{
 "cells": [
  {
   "cell_type": "markdown",
   "metadata": {},
   "source": [
    "Exercice 1: \n",
    "\n",
    "| destinataire | passerelle | coût |\n",
    "|A|A|:-:|\n",
    "|:-:|:-:|:-:|\n",
    "|:-:|:-:|:-:|\n",
    "|:-:|:-:|:-:|"
   ]
  },
  {
   "cell_type": "markdown",
   "metadata": {},
   "source": []
  }
 ],
 "metadata": {
  "language_info": {
   "name": "python"
  }
 },
 "nbformat": 4,
 "nbformat_minor": 2
}
