{
 "cells": [
  {
   "cell_type": "markdown",
   "metadata": {},
   "source": [
    "Exercice 1: \n",
    "\n",
    "| destinataire | passerelle | coût |\n",
    "|:-:|:-:|:-:|\n",
    "|A|I|63|\n",
    "|B|F|75|\n",
    "|C|F|81|\n",
    "|D|I|50|\n",
    "|E|E|23|\n",
    "|F|F|39|\n",
    "|H|H|25|\n",
    "|I|I|21|\n",
    "\n",
    "Exercice 2\n",
    "\n",
    "a) Oui ils sont voisins \n",
    "\n",
    "b) Non ils ne sont pas voisins\n",
    "\n",
    "e) \n",
    "\n",
    "| destinataire | passerelle | coût |\n",
    "|:-:|:-:|:-:|\n",
    "|B|B|1|\n",
    "|C|C|1|\n",
    "|D|B|2|\n",
    "|E|C|2|\n",
    "|F|C|3|\n",
    "|G|C|3|\n",
    "|H|C|2|\n",
    "\n",
    "Exercice 3:"
   ]
  },
  {
   "cell_type": "markdown",
   "metadata": {},
   "source": []
  }
 ],
 "metadata": {
  "language_info": {
   "name": "python"
  }
 },
 "nbformat": 4,
 "nbformat_minor": 2
}
