{
 "cells": [
  {
   "cell_type": "markdown",
   "metadata": {},
   "source": [
    "Exercice 1: \n",
    "\n",
    "| destinataire | passerelle | coût |\n",
    "|:-:|:-:|:-:|\n",
    "|A|I|63|\n",
    "|B|F|75|\n",
    "|C|F|81|\n",
    "|D|I|50|\n",
    "|E|E|23|\n",
    "|F|F|39|\n",
    "|H|H|25|\n",
    "|I|I|21|\n",
    "\n",
    "Exercice 2\n",
    "\n",
    "a) "
   ]
  },
  {
   "cell_type": "markdown",
   "metadata": {},
   "source": []
  }
 ],
 "metadata": {
  "language_info": {
   "name": "python"
  }
 },
 "nbformat": 4,
 "nbformat_minor": 2
}
