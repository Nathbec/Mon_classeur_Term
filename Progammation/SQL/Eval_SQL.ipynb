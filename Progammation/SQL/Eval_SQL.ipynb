{
 "cells": [
  {
   "cell_type": "markdown",
   "metadata": {},
   "source": [
    "Exercice 2:\n",
    "\n",
    "1-a) Il y a Ali Mohamed et Alonso Fernando \n",
    "\n",
    "b) C'est Kane Harry qui ne propose pas d'objet à la location\n",
    "\n",
    "2-a) Les résultats de la requète est:\n",
    "\n",
    "|nom|prenom|\n",
    "|:-:|:-:|\n",
    "|Dupont|Antoine|\n",
    "|Kane|Harry|\n",
    "\n",
    "b) SELECT tarif FROM Objet\n",
    "\n",
    "WHERE description=\"Scie circulaire\";\n",
    "\n",
    "c) UPDATE Objet set tarif = 15 \n",
    "\n",
    "WHERE description = \"Nettoyeur haute pression\";\n",
    "\n",
    "d) INSERT INTO Membre VALUES :\n",
    "\n",
    "(6,\"Renard\",\"Wendie\",\"69003\");\n",
    "\n",
    "3-a) La clé primaire ne permet pas d'avoir de doublon. Donc il ne doit pas avoir de différentes clé primaire sur la même table.\n",
    "\n",
    "b) Car cela ne supprimera Mohammed Ali des autres tables et cela créera une erreur car ces produits seront toujours disponible. Et car il peut y avoir d'autre utilisateurs qui s'appele Mohammed Ali\n",
    "\n",
    "c) DELETE FROM Membre \n",
    "\n",
    "JOIN Reservation ON Reservation.id_membre = Membre.id_membre\n",
    "\n",
    "JOIN Possede ON Possede.id_membre = Membre.id_membre\n",
    "\n",
    "WHERE id_membre = 1;\n",
    "\n",
    "4-a) "
   ]
  },
  {
   "cell_type": "markdown",
   "metadata": {},
   "source": []
  }
 ],
 "metadata": {
  "language_info": {
   "name": "python"
  }
 },
 "nbformat": 4,
 "nbformat_minor": 2
}
