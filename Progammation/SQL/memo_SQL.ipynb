{
 "cells": [
  {
   "cell_type": "markdown",
   "metadata": {},
   "source": [
    "\n",
    "CREATE TABLE livre ( id INTEGER PRIMARY KEY, name TEXT, rating INTEGER); # créer une table pour stocker\n",
    "\n",
    "INSERT INTO livre VALUES (1, \"lol\",2); # ajoute dans la table des livres\n",
    "\n",
    "INSERT INTO livre VALUES (2,\"bgs\",4);# ajoute dans la table des livres\n",
    "\n",
    "INSERT INTO livre VALUES (3,\"kljj\",5);# ajoute dans la table des livres\n",
    "\n",
    "SELECT * FROM livre# faire apparaitre tout sous la forme d'un tableau de liste\n"
   ]
  },
  {
   "cell_type": "markdown",
   "metadata": {},
   "source": [
    "### TOUT DOIT ETRE EN MAJ"
   ]
  },
  {
   "cell_type": "markdown",
   "metadata": {},
   "source": [
    "SUM(minutes) FROM todo_list # fais la somme de la tache minutes"
   ]
  },
  {
   "cell_type": "markdown",
   "metadata": {},
   "source": [
    "MAX(minutes) FROM todo_list # donne le maximum de la tache minutes"
   ]
  },
  {
   "cell_type": "markdown",
   "metadata": {},
   "source": [
    "INTEGER = un chiffre \n",
    "\n",
    "TEXT = un texte qui doit être compris entre deux \""
   ]
  },
  {
   "cell_type": "markdown",
   "metadata": {},
   "source": [
    "CREATE TABLE magasin( id INTEGER, name TEXT, prix INTEGER, taille INTEGER, poids INTEGER);\n",
    "\n",
    "INSERT INTO magasin VALUES (1, \"baka\", 5, 40, 2);\n",
    "\n",
    "INSERT INTO magasin VALUES (2, \"baptiste\", 2, 1.58, 255);\n",
    "\n",
    "INSERT INTO magasin VALUES (3, \"bebou\", 69, 1.82, 58);\n",
    "\n",
    "INSERT INTO magasin VALUES (4, \"ivan\", 6, 1.65, 52);\n",
    "\n",
    "INSERT INTO magasin VALUES (5, \"le_m\", 0, 1.84, 800);\n",
    "\n",
    "INSERT INTO magasin VALUES (6, \"elliot\", 86, 1.86, 66);"
   ]
  },
  {
   "cell_type": "markdown",
   "metadata": {},
   "source": [
    "SELECT * FROM movies WHERE release_year>2000 ORDER BY release_year; "
   ]
  },
  {
   "cell_type": "markdown",
   "metadata": {},
   "source": [
    "ici on va sélectionner tous dans movies et on va lui demander de ne garder que ceux >2000 et de les ranger en fonction de release_year"
   ]
  },
  {
   "cell_type": "markdown",
   "metadata": {},
   "source": [
    "### Mots de vocabulaire important apporté grâce a Manuel Terminale NSI"
   ]
  },
  {
   "cell_type": "markdown",
   "metadata": {},
   "source": [
    "- table = relation\n",
    "-  CREATE TABLE LIVRES -> nouvelle table nommée \"LIVRES\"."
   ]
  },
  {
   "cell_type": "markdown",
   "metadata": {},
   "source": [
    "attributs \n"
   ]
  }
 ],
 "metadata": {
  "language_info": {
   "name": "python"
  }
 },
 "nbformat": 4,
 "nbformat_minor": 2
}
