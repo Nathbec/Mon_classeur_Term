{
 "cells": [
  {
   "cell_type": "markdown",
   "metadata": {},
   "source": [
    "## SQL "
   ]
  },
  {
   "cell_type": "markdown",
   "metadata": {},
   "source": [
    "### <font color ='red'> Création du SQL </font>"
   ]
  },
  {
   "cell_type": "code",
   "execution_count": null,
   "metadata": {},
   "outputs": [],
   "source": [
    "CREATE TABLE LIVRES\n",
    "    (id INT, titre TEXT, auteur TEXT, ann_publi INT, note INT, PRIMARY KEY (id));"
   ]
  },
  {
   "cell_type": "markdown",
   "metadata": {},
   "source": [
    "Ceci va créer une table qui aura pour nom LIVRES et plusieurs attributs comme id, titre, auteur, ann_publi, note. Pour créer ces attributs nous avons précisé leur domaine. \n",
    "\n",
    "Il existe plusieurs domaines: \n",
    "- Pour id, ann_publi, note nous leur avons mis le domaine INT qui correspond à un entier\n",
    "- Pour titre, auteur nous leur avons mis le domaine TEXT qui correspond à une chaine de caractères\n",
    "\n",
    "Nous avons rajouté a id le rôle de clé primaire (PRIMARY KEY (id)). La clé primaire permet d'identifier chaque enregistrement dans une table de base de données. Et ne permet pas d'avoir des valeurs en doubles  \n",
    "\n",
    "#### Point Important en SQL il  faut que tout soit écrit en MAJUSCULE (hors les noms qu'ont donne aux attributs) et à chaque fin d'instruction il faut mettre une ;"
   ]
  },
  {
   "cell_type": "markdown",
   "metadata": {},
   "source": [
    "### <font color='red'> Ajouter des données </font>"
   ]
  },
  {
   "cell_type": "code",
   "execution_count": null,
   "metadata": {},
   "outputs": [],
   "source": [
    "INSERT INTO LIVRES\n",
    "    (id,titre,auteur,ann_publi,note)\n",
    "    VALUES\n",
    "    (1,'1984','Orwell',1949,10);"
   ]
  },
  {
   "cell_type": "markdown",
   "metadata": {},
   "source": [
    "Grâce à l'instruction suivante nous allons ajouter des données aux attributs de la table LIVRES. Dans l'exemple ci-contre on ajoute:\n",
    "- à l'attribut id la valeur de 1 \n",
    "- à l'attribut titre la valeur 1984 qui doit être compris entre '' car son domaine est chaine de caractère\n",
    "- à l'attribut auteur la valeur Orwell qui doit être compris entre '' car son domaine est chaine de caractère\n",
    "- à l'attribut ann_publi la valeur 1949 \n",
    "- à l'attribut note la valeur 10 \n",
    "\n",
    "Et une fois fini on a mis une ; pour annoncer qu'on avit fini d'ajouter des données à la table LIVRES \n",
    "\n",
    "On peut encore en ajouter mais cela ressemblera à cela: "
   ]
  },
  {
   "cell_type": "code",
   "execution_count": null,
   "metadata": {},
   "outputs": [],
   "source": [
    "INSERT INTO LIVRES\n",
    "    (id,titre,auteur,ann_publi,note)\n",
    "    VALUES\n",
    "    (1,'1984','Orwell',1949,10),\n",
    "    (2,'Dune','Herbert',1965,8); "
   ]
  },
  {
   "cell_type": "markdown",
   "metadata": {},
   "source": [
    "### <font color='red'> Faire apparaitre la Table LIVRES </font>"
   ]
  },
  {
   "cell_type": "code",
   "execution_count": null,
   "metadata": {},
   "outputs": [],
   "source": [
    "SELECT id, titre, auteur, ann_publi, note\n",
    "FROM LIVRES"
   ]
  },
  {
   "cell_type": "markdown",
   "metadata": {},
   "source": [
    "Grâce à cet instruction on sélectionne les attributs de la table LIVRES et cela les fait apparaîtres dans un tableau où on ils apparaissent.\n",
    "\n",
    "Mais on peut aussi choisir si l'on veut faire apparaitre que les id ou que le tritre, etc. Pour ce faire dans SELECT il suffit retirer l'attribut en question."
   ]
  },
  {
   "cell_type": "code",
   "execution_count": null,
   "metadata": {},
   "outputs": [],
   "source": [
    "SELECT titre, ann_publi\n",
    "FROM LIVRES\n",
    "WHERE auteur='Asimov'"
   ]
  },
  {
   "cell_type": "markdown",
   "metadata": {},
   "source": [
    "Cet instruction va sélectionner les attributs titre, ann_publi de la table LIVRES \n",
    "\n",
    "Grâce à l'instruction WHERE on limite les attributs que l'on veut faire apparaitre à ceux dont la donnée à l'attributs auteurs est 'Asimov'."
   ]
  },
  {
   "cell_type": "code",
   "execution_count": null,
   "metadata": {},
   "outputs": [],
   "source": [
    "SELECT titre, ann_publi\n",
    "FROM LIVRES\n",
    "WHERE auteur='Asimov' AND ann_publi>1953"
   ]
  },
  {
   "cell_type": "markdown",
   "metadata": {},
   "source": [
    "A la suite de l'instruction WHERE on rajoute l'instruction AND pour spécifier encore plus les attributs que l'on veut faire apparaitre. \n",
    "\n",
    "Dans cet exemple on va obtenir les livres écrit par Asimov après 1953"
   ]
  },
  {
   "cell_type": "code",
   "execution_count": null,
   "metadata": {},
   "outputs": [],
   "source": [
    "SELECT titre\n",
    "FROM LIVRES\n",
    "WHERE auteur='K.Dick' ORDER BY ann_publi"
   ]
  },
  {
   "cell_type": "markdown",
   "metadata": {},
   "source": [
    "Dans cet exemple on a rajouté ORDER BY qui va permettre de trier de façon croissante par rapport aux domaines dont on veut. Cela va donner:\n",
    "\n",
    "SELECT domaine \n",
    "\n",
    "FROM nom_table\n",
    "\n",
    "WHERE domaine (qques chose) ORDER BY domaine"
   ]
  },
  {
   "cell_type": "markdown",
   "metadata": {},
   "source": [
    "### <font color='red'> Création TABLE </font>"
   ]
  },
  {
   "cell_type": "code",
   "execution_count": null,
   "metadata": {},
   "outputs": [],
   "source": [
    "CREATE TABLE AUTEURS\n",
    "(id INT, nom TEXT, prenom TEXT, ann_naissance INT, langue_ecriture TEXT, PRIMARY KEY (id));"
   ]
  },
  {
   "cell_type": "code",
   "execution_count": null,
   "metadata": {},
   "outputs": [],
   "source": [
    "CREATE TABLE LIVRES\n",
    "(id INT, titre TEXT, id_auteur INT, ann_publi INT, note INT, PRIMARY KEY (id), FOREIGN KEY (id_auteur) REFERENCES AUTEURS(id));"
   ]
  },
  {
   "cell_type": "markdown",
   "metadata": {},
   "source": [
    "Dans cet exemple on créait une première TABLE que l'on nomme AUTEURS. Après on créait une deuxième TABLE que l'on nomme LIVRES.\n",
    "\n",
    "Dans cette deuxième TABLE on crée plusieurs attributs. L'attribut id_auteur va servir de liaison entre id_auteur de la TABLE LIVRES avec id de la TABLE AUTEURS, grâce au domaine:\n",
    "- FOREIGN KEY(id_auteur) REFERENCES AUTEURS(id)"
   ]
  },
  {
   "cell_type": "code",
   "execution_count": null,
   "metadata": {},
   "outputs": [],
   "source": [
    "SELECT titre,nom, prenom\n",
    "FROM LIVRES\n",
    "INNER JOIN AUTEURS ON LIVRES.id_auteur = AUTEURS.id"
   ]
  },
  {
   "cell_type": "markdown",
   "metadata": {},
   "source": [
    "La commande INNER JOIN AUTEURS ON LIVRES.id_auteurs = AUTEURS.id\n",
    "\n",
    "va lier les deux TABLES entre elle car id_auteur est lié avec id lors de la création des deux TABLES"
   ]
  },
  {
   "cell_type": "markdown",
   "metadata": {},
   "source": []
  }
 ],
 "metadata": {
  "language_info": {
   "name": "python"
  }
 },
 "nbformat": 4,
 "nbformat_minor": 2
}
