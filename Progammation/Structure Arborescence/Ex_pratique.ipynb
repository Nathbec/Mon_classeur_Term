{
 "cells": [
  {
   "cell_type": "markdown",
   "metadata": {},
   "source": [
    "EX Taille et hauteur abr "
   ]
  },
  {
   "cell_type": "code",
   "execution_count": 1,
   "metadata": {},
   "outputs": [],
   "source": [
    "class ArbreBinaire:\n",
    "    def __init__(self, gauche=None, etiquette=None, droite=None):\n",
    "        self.gauche = gauche\n",
    "        self.etiquette = etiquette\n",
    "        self.droite = droite\n",
    "\n",
    "    def est_vide(self):\n",
    "        return self.etiquette is None\n",
    "\n",
    "    def hauteur(self):\n",
    "        if self.est_vide():\n",
    "            return 0\n",
    "        else:\n",
    "            return 1 + max(self.droite.hauteur(), self.gauche.hauteur())\n",
    "        \n",
    "\n",
    "    def taille(self):\n",
    "        if self.est_vide():\n",
    "            return 0\n",
    "        else:\n",
    "            return 1+self.droite.taille() + self.gauche.taille()\n"
   ]
  },
  {
   "cell_type": "markdown",
   "metadata": {},
   "source": [
    "Arbre généalogique:"
   ]
  },
  {
   "cell_type": "code",
   "execution_count": 5,
   "metadata": {},
   "outputs": [],
   "source": [
    "def nb_presents(arbre): \n",
    "    '''\n",
    "    fonction nb_presents qui prend en paramètre un tuple arbre représentant un arbre généalogique et renvoie le nombre de personnes présentes dans cet arbre.\n",
    "    '''\n",
    "    if arbre is None:\n",
    "        return 0\n",
    "    sag, personne, sad = arbre\n",
    "    return 1 + nb_presents(sag) + nb_presents(sad)\n",
    "\n",
    "def nb_generations(arbre): \n",
    "    '''fonction nb_generations qui prend en paramètre un tuple arbre représentant un arbre généalogique et renvoie sa hauteur.\n",
    "    '''\n",
    "    if arbre is None:\n",
    "        return 0\n",
    "    sag, personne, sad = arbre\n",
    "    return 1 + max(nb_generations(sag), nb_generations(sad))\n",
    "\n",
    "def compte(arbre, nom): \n",
    "    '''fonction compte qui prend en paramètre un tuple arbre représentant un arbre généalogique ainsi qu'un nom (au format str) et renvoie le nombre d'apparitions de ce nom dans l'arbre généalogique.\n",
    "    '''\n",
    "    if arbre is None:\n",
    "        return 0\n",
    "    sag, personne, sad = arbre\n",
    "    n = 0\n",
    "    if personne == nom:\n",
    "        n = 1\n",
    "    return n + compte(sag, nom) + compte(sad, nom)\n",
    "\n",
    "def generation(arbre, n): # version_vide\n",
    "    '''fonction generation qui prend en paramètre un tuple arbre représentant un arbre généalogique ainsi qu'un entier strictement positif n et renvoie la liste des noms des personnes situés à la génération n.\n",
    "    '''\n",
    "    if arbre is None:\n",
    "        return []\n",
    "    sag, personne, sad = arbre\n",
    "    if n == 1:\n",
    "        return [personne]\n",
    "    return generation(sag, n - 1) + generation(sad, n - 1)\n",
    "\n",
    "def generation(arbre, n): # version_parcours_en_largeur\n",
    "    actuelle = [arbre]\n",
    "    for _ in range(1, n):\n",
    "        precedente = []\n",
    "        for a in actuelle:\n",
    "            sag, personne, sad = a\n",
    "            if sag is not None:\n",
    "                precedente.append(sag)\n",
    "            if sad is not None:\n",
    "                precedente.append(sad)\n",
    "        actuelle = precedente\n",
    "    return [a[1] for a in actuelle]\n",
    "\n",
    "def generation(arbre, n): # version_parcours_en_profondeur\n",
    "    pile = [(arbre, 1)]\n",
    "    resultat = []\n",
    "    while len(pile) > 0:\n",
    "        a, rang = pile.pop()\n",
    "        sag, personne, sad = a\n",
    "        if rang == n:\n",
    "            resultat.append(personne)\n",
    "        else:\n",
    "            if sad is not None:\n",
    "                pile.append((sad, rang + 1))\n",
    "            if sag is not None:\n",
    "                pile.append((sag, rang + 1))\n",
    "    return resultat"
   ]
  },
  {
   "cell_type": "markdown",
   "metadata": {},
   "source": [
    "Arbre binaire de cheminnement"
   ]
  },
  {
   "cell_type": "code",
   "execution_count": null,
   "metadata": {},
   "outputs": [],
   "source": [
    "def longueur_ce(arbre, noeud, longueur):\n",
    "    ''' fonction récursive longueur_ce qui prend en paramètres un arbre, un nœud, une longueur et renvoie la longueur de cheminement externe.\n",
    "    '''\n",
    "    if noeud in arbre:\n",
    "        longueur_g = longueur_ce(arbre, arbre[noeud][0], longueur+1)\n",
    "        longueur_d = longueur_ce(arbre, arbre[noeud][1], longueur+1)\n",
    "        return longueur_g + longueur_d\n",
    "    else:\n",
    "        return longueur\n",
    "    \n",
    "def longueur_ponderee(arbre, poids, noeud, longueur):\n",
    "    ''' fonction longueur_ponderere qui prend en paramètres un arbre, les poids, le nœud racine, une longueur et renvoie la longueur de cheminement externe pondérée.\n",
    "     '''\n",
    "    if noeud in arbre:\n",
    "        longueur_g = longueur_ponderee(arbre, poids, arbre[noeud][0], longueur+1)\n",
    "        longueur_d = longueur_ponderee(arbre, poids, arbre[noeud][1], longueur+1)\n",
    "        return longueur_g + longueur_d\n",
    "    else:\n",
    "        return longueur * poids[noeud]\n"
   ]
  },
  {
   "cell_type": "code",
   "execution_count": null,
   "metadata": {},
   "outputs": [],
   "source": []
  }
 ],
 "metadata": {
  "kernelspec": {
   "display_name": "Python 3",
   "language": "python",
   "name": "python3"
  },
  "language_info": {
   "codemirror_mode": {
    "name": "ipython",
    "version": 3
   },
   "file_extension": ".py",
   "mimetype": "text/x-python",
   "name": "python",
   "nbconvert_exporter": "python",
   "pygments_lexer": "ipython3",
   "version": "3.12.1"
  }
 },
 "nbformat": 4,
 "nbformat_minor": 2
}
