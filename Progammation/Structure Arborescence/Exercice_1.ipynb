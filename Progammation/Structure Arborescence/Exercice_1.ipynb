{
 "cells": [
  {
   "cell_type": "markdown",
   "metadata": {},
   "source": [
    "1-a) Il y a 4 feuilles dont les valeurs sont de gauche à droite: 12-val-22-32\n",
    "\n",
    "b) Le sous-arbre gauche de 23 est 19 et 21\n",
    "\n",
    "c) Hauteur est de 4. La taille est de 9\n",
    "\n",
    "d) val devrait être égale a 16-17-18\n",
    "\n",
    "2-a) 12-13-15-16-18-19-21-23-32\n",
    "\n",
    "b) 12-13-16-15-21-19-32-23-18\n",
    "\n",
    "3-b) racine = Noeud(18)\n",
    "\n",
    "racine.insere_tout([15,13,12,16,23,19,21,32])\n",
    "\n",
    "c) Bloc3 - Bloc2 - Bloc 1"
   ]
  },
  {
   "cell_type": "code",
   "execution_count": null,
   "metadata": {},
   "outputs": [],
   "source": []
  }
 ],
 "metadata": {
  "language_info": {
   "name": "python"
  }
 },
 "nbformat": 4,
 "nbformat_minor": 2
}
