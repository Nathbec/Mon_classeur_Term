{
 "cells": [
  {
   "cell_type": "markdown",
   "metadata": {},
   "source": [
    "1 ) Il s'agit d'un arbre binaire car un noeud possède au moins 1 ou 2 fils\n",
    "\n",
    "2-a) La variable V est un dictionnaire\n",
    "\n",
    "b) V['J']\n",
    "\n",
    "c) \n",
    "\n",
    "    def somme(W):\n",
    "        somme = 0\n",
    "        for element in W.values():\n",
    "            somme+=element\n",
    "        return somme\n",
    "\n",
    "d) \n",
    "\n",
    "    def VMax(W):\n",
    "        max_cle = list(W.keys())[0]  \n",
    "        max_valeur = W[max_cle]  \n",
    "        for cle in W:\n",
    "            if W[cle] > max_valeur:\n",
    "                max_cle = cle\n",
    "                max_valeur = W[cle]\n",
    "        return max_cle\n",
    "\n",
    "3 ) L'algorithme va donner le nombre total de noeud dans l'arbre\n",
    "\n",
    "4-a) L'affichage sera A-B-C-E-D-F-G-I-H-J\n",
    "\n",
    "b) Le type de parcours est un parcours préfixe (on explore le sous-arbre droit que si le sous-arbre gauche est entièrement exploré)"
   ]
  },
  {
   "cell_type": "code",
   "execution_count": 15,
   "metadata": {},
   "outputs": [
    {
     "name": "stdout",
     "output_type": "stream",
     "text": [
      "57\n",
      "F\n"
     ]
    }
   ],
   "source": [
    "V = {'A':1, 'B':2, 'C':3, 'D':5, 'E':10, 'G':4, 'H':5, 'I':5, 'J':7, 'F':15}\n",
    "V['J']\n",
    "print(somme(V))\n",
    "print(VMax(V))"
   ]
  },
  {
   "cell_type": "code",
   "execution_count": 9,
   "metadata": {},
   "outputs": [],
   "source": [
    "def somme(W):\n",
    "    somme = 0\n",
    "    for element in W.values():\n",
    "        somme+=element\n",
    "    return somme"
   ]
  },
  {
   "cell_type": "code",
   "execution_count": 11,
   "metadata": {},
   "outputs": [],
   "source": [
    "def VMax(W):\n",
    "    max_cle = list(W.keys())[0]  \n",
    "    max_valeur = W[max_cle]  \n",
    "    for cle in W:\n",
    "        if W[cle] > max_valeur:\n",
    "            max_cle = cle\n",
    "            max_valeur = W[cle]\n",
    "    return max_cle\n",
    "\n"
   ]
  },
  {
   "cell_type": "markdown",
   "metadata": {},
   "source": []
  }
 ],
 "metadata": {
  "kernelspec": {
   "display_name": "Python 3",
   "language": "python",
   "name": "python3"
  },
  "language_info": {
   "codemirror_mode": {
    "name": "ipython",
    "version": 3
   },
   "file_extension": ".py",
   "mimetype": "text/x-python",
   "name": "python",
   "nbconvert_exporter": "python",
   "pygments_lexer": "ipython3",
   "version": "3.12.1"
  }
 },
 "nbformat": 4,
 "nbformat_minor": 2
}
