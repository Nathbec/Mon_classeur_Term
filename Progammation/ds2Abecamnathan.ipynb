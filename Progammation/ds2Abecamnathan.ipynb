{
 "cells": [
  {
   "cell_type": "code",
   "execution_count": 1,
   "metadata": {},
   "outputs": [],
   "source": [
    "# Première implémentation pour les piles\n",
    "def creer_pile():\n",
    "    '''Renvoie une pile vide'''\n",
    "    return []\n",
    "\n",
    "def est_vide(pile):\n",
    "    '''Renvoie un booléen, True si la pile est vide et False sinon'''\n",
    "    return pile == []\n",
    "\n",
    "def empiler(pile, element):\n",
    "    '''Empile element au sommet de pile'''\n",
    "    pile.append(element)\n",
    "    \n",
    "def depiler(pile):\n",
    "    '''Renvoie et enlève la valeur du sommet de pile'''\n",
    "    assert not est_vide(pile), \"Pile vide\"\n",
    "    return pile.pop()"
   ]
  },
  {
   "cell_type": "code",
   "execution_count": 3,
   "metadata": {},
   "outputs": [],
   "source": [
    "# Deuxième implémentation pour les piles\n",
    "class Pile:\n",
    "\n",
    "    '''classe Pile création d’une instance Pile avec une liste'''\n",
    "    \n",
    "    def __init__(self):\n",
    "        '''Initialise une pile vide'''\n",
    "        self.liste = []\n",
    "        \n",
    "    def est_vide(self):\n",
    "        '''Renvoie un booléen, True si la pile est vide et False sinon'''\n",
    "        return len(self.liste) == 0\n",
    "\n",
    "    def empiler(self, element):\n",
    "        '''Empile element au sommet de pile'''\n",
    "        self.liste.append(element)\n",
    "\n",
    "    def depiler(self):\n",
    "        '''Renvoie et enlève la valeur du sommet de pile'''\n",
    "        return self.liste.pop()\n",
    "\n",
    "\n",
    "    def __repr__(self):\n",
    "        return repr(self.liste)\n",
    "    \n",
    "    \n",
    "def sommet(pile):\n",
    "    \n",
    "    ''' Renvoie la valeur au sommet de la pile mais sans la supprimer de la pile '''\n",
    "    a=pile.depiler()\n",
    "    pile.empiler(a)\n",
    "    return a\n",
    "\n",
    "\n",
    "def mettre_disques(pile, n):\n",
    "    '''met des disques de taille n à 1 sur la pile'''\n",
    "    for i in range(n,0,-1):\n",
    "        pile.empiler(i)\n",
    "        \n",
    "        \n",
    "def creation_tours(n):\n",
    "    ''' renvoie une liste de 3 piles,\n",
    "    la première correspond à la pile des n disques,\n",
    "    les autres étant vides.'''\n",
    "    \n",
    "    pile_1=Pile()\n",
    "    pile_2=Pile()\n",
    "    pile_3=Pile()\n",
    "    mettre_disques(pile_1,n)\n",
    "    return [pile_1,pile_2,pile_3]"
   ]
  },
  {
   "cell_type": "code",
   "execution_count": null,
   "metadata": {},
   "outputs": [],
   "source": []
  }
 ],
 "metadata": {
  "kernelspec": {
   "display_name": "Python 3",
   "language": "python",
   "name": "python3"
  },
  "language_info": {
   "codemirror_mode": {
    "name": "ipython",
    "version": 3
   },
   "file_extension": ".py",
   "mimetype": "text/x-python",
   "name": "python",
   "nbconvert_exporter": "python",
   "pygments_lexer": "ipython3",
   "version": "3.12.1"
  }
 },
 "nbformat": 4,
 "nbformat_minor": 2
}
