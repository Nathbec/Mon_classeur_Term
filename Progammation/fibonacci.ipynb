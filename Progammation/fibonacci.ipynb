{
 "cells": [
  {
   "cell_type": "code",
   "execution_count": 3,
   "metadata": {},
   "outputs": [],
   "source": [
    "def fibonacci(n):\n",
    "    if n==0:\n",
    "        return 0\n",
    "    elif n==1:\n",
    "        return 1\n",
    "    else:\n",
    "        return fibonacci(n-1)+fibonacci(n-2)"
   ]
  },
  {
   "cell_type": "code",
   "execution_count": 4,
   "metadata": {},
   "outputs": [
    {
     "data": {
      "text/plain": [
       "3"
      ]
     },
     "execution_count": 4,
     "metadata": {},
     "output_type": "execute_result"
    }
   ],
   "source": [
    "fibonacci(4)"
   ]
  },
  {
   "cell_type": "code",
   "execution_count": 1,
   "metadata": {},
   "outputs": [],
   "source": [
    "PIECES = [100, 50, 20, 10, 5, 2, 1]\n",
    "\n",
    "def rendu_monnaie(a_rendre, i=0):\n",
    "    if a_rendre == 0:\n",
    "       return []\n",
    "    p = PIECES[i]\n",
    "    if p <= a_rendre :\n",
    "        return [p] + rendu_monnaie(a_rendre-p, i)\n",
    "    else :\n",
    "        return rendu_monnaie(a_rendre, i+1)\n",
    "\n"
   ]
  },
  {
   "cell_type": "code",
   "execution_count": 2,
   "metadata": {},
   "outputs": [
    {
     "data": {
      "text/plain": [
       "[100, 100, 50, 20, 20, 1]"
      ]
     },
     "execution_count": 2,
     "metadata": {},
     "output_type": "execute_result"
    }
   ],
   "source": [
    "rendu_monnaie(291)"
   ]
  },
  {
   "cell_type": "code",
   "execution_count": 3,
   "metadata": {},
   "outputs": [
    {
     "ename": "NameError",
     "evalue": "name 'nouveau_sol' is not defined",
     "output_type": "error",
     "traceback": [
      "\u001b[0;31m---------------------------------------------------------------------------\u001b[0m",
      "\u001b[0;31mNameError\u001b[0m                                 Traceback (most recent call last)",
      "Cell \u001b[0;32mIn[3], line 24\u001b[0m\n\u001b[1;32m     19\u001b[0m         \u001b[38;5;28;01mreturn\u001b[39;00m \u001b[38;5;28;01mFalse\u001b[39;00m\n\u001b[1;32m     21\u001b[0m \u001b[38;5;66;03m# Tests\u001b[39;00m\n\u001b[1;32m     22\u001b[0m \n\u001b[1;32m     23\u001b[0m \u001b[38;5;66;03m# Test profondeur 0 (déjà atteinte)\u001b[39;00m\n\u001b[0;32m---> 24\u001b[0m sol \u001b[38;5;241m=\u001b[39m \u001b[43mnouveau_sol\u001b[49m()\n\u001b[1;32m     25\u001b[0m \u001b[38;5;28;01massert\u001b[39;00m percolation(sol, \u001b[38;5;241m0\u001b[39m, \u001b[38;5;241m5\u001b[39m, \u001b[38;5;241m0\u001b[39m) \u001b[38;5;129;01mis\u001b[39;00m \u001b[38;5;28;01mTrue\u001b[39;00m\n\u001b[1;32m     26\u001b[0m \u001b[38;5;66;03m# Test profondeur 1 (atteignable)\u001b[39;00m\n",
      "\u001b[0;31mNameError\u001b[0m: name 'nouveau_sol' is not defined"
     ]
    }
   ],
   "source": [
    "TERRE = 1\n",
    "VIDE = 0\n",
    "EAU = 2\n",
    "\n",
    "\n",
    "def percolation(sol, i, j, prof_max):\n",
    "    sol[i][j] = EAU\n",
    "\n",
    "    if [i][j] == prof_max :\n",
    "        return True\n",
    "    else:\n",
    "        if [j-1] == VIDE:\n",
    "            if percolation(sol, i, j-1, prof_max):\n",
    "                return True\n",
    "            elif percolation(sol,i-1,j-1,prof_max):\n",
    "                return True\n",
    "            elif percolation(sol,i+1,j-1,prof_max):\n",
    "                return True\n",
    "        return False\n",
    "\n",
    "# Tests\n",
    "\n",
    "# Test profondeur 0 (déjà atteinte)\n",
    "sol = nouveau_sol()\n",
    "assert percolation(sol, 0, 5, 0) is True\n",
    "# Test profondeur 1 (atteignable)\n",
    "sol = nouveau_sol()\n",
    "assert percolation(sol, 0, 5, 1) is True\n",
    "# Test profondeur 5 (atteignable)\n",
    "sol = nouveau_sol()"
   ]
  },
  {
   "cell_type": "code",
   "execution_count": null,
   "metadata": {},
   "outputs": [],
   "source": []
  }
 ],
 "metadata": {
  "kernelspec": {
   "display_name": "Python 3",
   "language": "python",
   "name": "python3"
  },
  "language_info": {
   "codemirror_mode": {
    "name": "ipython",
    "version": 3
   },
   "file_extension": ".py",
   "mimetype": "text/x-python",
   "name": "python",
   "nbconvert_exporter": "python",
   "pygments_lexer": "ipython3",
   "version": "3.12.1"
  }
 },
 "nbformat": 4,
 "nbformat_minor": 2
}
