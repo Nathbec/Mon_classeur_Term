{
 "cells": [
  {
   "cell_type": "markdown",
   "metadata": {},
   "source": [
    "#### Fonction fibonacci"
   ]
  },
  {
   "cell_type": "code",
   "execution_count": 3,
   "metadata": {},
   "outputs": [],
   "source": [
    "def fibonacci(n):\n",
    "    if n==0:\n",
    "        return 0\n",
    "    elif n==1:\n",
    "        return 1\n",
    "    else:\n",
    "        return fibonacci(n-1)+fibonacci(n-2)"
   ]
  },
  {
   "cell_type": "code",
   "execution_count": 4,
   "metadata": {},
   "outputs": [
    {
     "data": {
      "text/plain": [
       "3"
      ]
     },
     "execution_count": 4,
     "metadata": {},
     "output_type": "execute_result"
    }
   ],
   "source": [
    "fibonacci(4)"
   ]
  },
  {
   "cell_type": "markdown",
   "metadata": {},
   "source": [
    "#### Fonction rendu_monnaie"
   ]
  },
  {
   "cell_type": "code",
   "execution_count": 1,
   "metadata": {},
   "outputs": [],
   "source": [
    "PIECES = [100, 50, 20, 10, 5, 2, 1]\n",
    "\n",
    "def rendu_monnaie(a_rendre, i=0):\n",
    "    if a_rendre == 0:\n",
    "       return []\n",
    "    p = PIECES[i]\n",
    "    if p <= a_rendre :\n",
    "        return [p] + rendu_monnaie(a_rendre-p, i)\n",
    "    else :\n",
    "        return rendu_monnaie(a_rendre, i+1)\n",
    "\n"
   ]
  },
  {
   "cell_type": "code",
   "execution_count": 2,
   "metadata": {},
   "outputs": [
    {
     "data": {
      "text/plain": [
       "[100, 100, 50, 20, 20, 1]"
      ]
     },
     "execution_count": 2,
     "metadata": {},
     "output_type": "execute_result"
    }
   ],
   "source": [
    "rendu_monnaie(291)"
   ]
  },
  {
   "cell_type": "markdown",
   "metadata": {},
   "source": [
    "#### Fonction percolation"
   ]
  },
  {
   "cell_type": "code",
   "execution_count": 1,
   "metadata": {},
   "outputs": [],
   "source": [
    "def nouveau_sol(nom='base'):\n",
    "    \"\"\"\n",
    "    Renvoie un sol sec\n",
    "    Trois sols sont proposés\n",
    "    Par défaut on récupère le sol 'base'\n",
    "    \"\"\"\n",
    "    sols = {'base': [\n",
    "        [1, 1, 1, 1, 1, 0, 1, 1, 1, 1],\n",
    "        [1, 1, 0, 1, 0, 0, 0, 0, 0, 1],\n",
    "        [1, 1, 0, 1, 0, 1, 1, 1, 0, 1],\n",
    "        [1, 1, 1, 1, 0, 1, 1, 0, 0, 1],\n",
    "        [1, 0, 1, 0, 1, 0, 0, 0, 1, 1],\n",
    "        [1, 0, 1, 1, 1, 1, 0, 1, 1, 1],\n",
    "        [1, 1, 1, 0, 0, 1, 1, 1, 0, 1],\n",
    "        [1, 1, 1, 1, 1, 1, 1, 1, 1, 1]\n",
    "    ],\n",
    "        'puits': [\n",
    "        [1, 0, 1],\n",
    "        [1, 0, 1],\n",
    "        [1, 0, 1],\n",
    "        [1, 0, 1],\n",
    "        [1, 1, 1],\n",
    "    ],\n",
    "        'diagonale': [\n",
    "        [1, 0, 1, 1, 1, 1, 1, 1, 1, 1],\n",
    "        [1, 0, 0, 1, 1, 1, 1, 1, 1, 1],\n",
    "        [1, 1, 0, 0, 1, 1, 1, 1, 1, 1],\n",
    "        [1, 1, 1, 0, 0, 1, 1, 1, 1, 1],\n",
    "        [1, 1, 1, 1, 0, 0, 1, 1, 1, 1],\n",
    "        [1, 1, 1, 1, 1, 0, 0, 1, 1, 1],\n",
    "        [1, 1, 1, 1, 1, 1, 0, 1, 1, 1],\n",
    "        [1, 1, 1, 1, 1, 1, 1, 1, 1, 1]\n",
    "    ]\n",
    "\n",
    "    }\n",
    "    return [ligne.copy() for ligne in sols[nom]]"
   ]
  },
  {
   "cell_type": "code",
   "execution_count": null,
   "metadata": {},
   "outputs": [
    {
     "data": {
      "text/plain": [
       "False"
      ]
     },
     "execution_count": 2,
     "metadata": {},
     "output_type": "execute_result"
    }
   ],
   "source": [
    "TERRE = 1\n",
    "VIDE = 0\n",
    "EAU = 2\n",
    "\n",
    "\n",
    "def percolation(sol, i, j, prof_max):\n",
    "    sol[i][j] = EAU\n",
    "\n",
    "    if prof_max == i :\n",
    "        return True\n",
    "    else:\n",
    "        if sol[i][j-1] == VIDE:\n",
    "            if percolation(sol, i, j-1, prof_max):\n",
    "                return True\n",
    "        if sol[i+1][j]==VIDE:\n",
    "            if percolation(sol, i+1, j, prof_max):\n",
    "                return True\n",
    "        if sol[i][j+1]==VIDE:\n",
    "            if percolation(sol, i, j+1, prof_max):\n",
    "                return True\n",
    "        return False\n",
    "\n",
    "# Tests\n",
    "\n",
    "# Test profondeur 0 (déjà atteinte)\n",
    "sol = nouveau_sol()\n",
    "assert percolation(sol, 0, 5, 0) is True\n",
    "# Test profondeur 1 (atteignable)\n",
    "sol = nouveau_sol()\n",
    "assert percolation(sol, 0, 5, 1) is True\n",
    "# Test profondeur 5 (atteignable)\n",
    "sol = nouveau_sol()\n",
    "assert percolation(sol, 0, 5, 5) is True\n",
    "# Test profondeur 6 (non atteignable)\n",
    "sol = nouveau_sol()\n",
    "assert percolation(sol, 0, 5, 6) is False\n"
   ]
  },
  {
   "cell_type": "markdown",
   "metadata": {},
   "source": [
    "#### Fonction Anagrammes"
   ]
  },
  {
   "cell_type": "code",
   "execution_count": 1,
   "metadata": {},
   "outputs": [],
   "source": [
    "def supprime_premier(chaine, cible):\n",
    "    result=\"\"\n",
    "    lettre=False\n",
    "    for caractere in chaine:\n",
    "        if caractere == cible and not lettre:\n",
    "            lettre=True \n",
    "        else:\n",
    "            result+=caractere\n",
    "    return lettre, result\n",
    "\n",
    "\n",
    "def anagrammes(chaine1, chaine2):\n",
    "    if len(chaine1)==1:\n",
    "        return chaine1==chaine2\n",
    "    else:\n",
    "        cible = chaine1[0]\n",
    "        vrai, chaine1_sans_cible = supprime_premier(chaine1, cible)\n",
    "        cible_dans_2, chaine2_sans_cible = supprime_premier(chaine2, cible)\n",
    "        if cible_dans_2:\n",
    "            return anagrammes(chaine1_sans_cible, chaine2_sans_cible)\n",
    "        else:\n",
    "            return False\n",
    "\n",
    "\n",
    "# Tests\n",
    "\n",
    "assert supprime_premier(\"ukulélé\", \"u\") == (True, \"kulélé\")\n",
    "assert supprime_premier(\"ukulélé\", \"é\") == (True, \"ukullé\")\n",
    "assert supprime_premier(\"ukulélé\", \"a\") == (False, \"ukulélé\")\n",
    "assert anagrammes(\"chien\", \"niche\")\n",
    "assert anagrammes(\"énergie noire\", \"reine ignorée\")\n",
    "assert anagrammes(\"louve\", \"poule\") is False\n"
   ]
  },
  {
   "cell_type": "markdown",
   "metadata": {},
   "source": [
    "#### Fonction Indice "
   ]
  },
  {
   "cell_type": "code",
   "execution_count": null,
   "metadata": {},
   "outputs": [],
   "source": []
  },
  {
   "cell_type": "code",
   "execution_count": null,
   "metadata": {},
   "outputs": [],
   "source": []
  }
 ],
 "metadata": {
  "kernelspec": {
   "display_name": "Python 3",
   "language": "python",
   "name": "python3"
  },
  "language_info": {
   "codemirror_mode": {
    "name": "ipython",
    "version": 3
   },
   "file_extension": ".py",
   "mimetype": "text/x-python",
   "name": "python",
   "nbconvert_exporter": "python",
   "pygments_lexer": "ipython3",
   "version": "3.12.1"
  }
 },
 "nbformat": 4,
 "nbformat_minor": 2
}
