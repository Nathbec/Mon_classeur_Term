{
 "cells": [
  {
   "cell_type": "code",
   "execution_count": null,
   "metadata": {},
   "outputs": [],
   "source": [
    "\n",
    "CREATE TABLE livre ( id INTEGER PRIMARY KEY, name TEXT, rating INTEGER); # créer une table pour stocker\n",
    "INSERT INTO livre VALUES (1, \"lol\",2); # ajoute dans la table des livres\n",
    "INSERT INTO livre VALUES (2,\"bgs\",4);# ajoute dans la table des livres\n",
    "INSERT INTO livre VALUES (3,\"kljj\",5);# ajoute dans la table des livres\n",
    "SELECT * FROM livre# faire apparaitre tout sous la forme d'un tableau de liste\n"
   ]
  },
  {
   "cell_type": "markdown",
   "metadata": {},
   "source": [
    "### TOUT DOIT ETRE EN MAJ"
   ]
  },
  {
   "cell_type": "code",
   "execution_count": null,
   "metadata": {},
   "outputs": [],
   "source": [
    "SUM(minutes) FROM todo_list # fais la somme de la tache minutes"
   ]
  },
  {
   "cell_type": "code",
   "execution_count": null,
   "metadata": {},
   "outputs": [],
   "source": [
    "MAX(minutes) FROM todo_list # donne le maximum de la tache minutes"
   ]
  },
  {
   "cell_type": "code",
   "execution_count": null,
   "metadata": {},
   "outputs": [],
   "source": [
    "CREATE TABLE magasin( id INTEGER, name TEXT, prix TEXT, taille TEXT, poids INTEGER);\n",
    "INSERT INTO magasin VALUES (1, \"baka\", 5, 40, 2);\n",
    "INSERT INTO magasin VALUES (2, \"baptiste\", 2, 1.58, 255);\n",
    "INSERT INTO magasin VALUES (3, \"bebou\", 69, 1.82, 58);\n",
    "INSERT INTO magasin VALUES (4, \"ivan\", 6, 1.65, 52);\n",
    "INSERT INTO magasin VALUES (5, \"le_m\", 0, 1.84, 800);\n",
    "INSERT INTO magasin VALUES (6, \"elliot\", 86, 1.86, 66);"
   ]
  }
 ],
 "metadata": {
  "language_info": {
   "name": "python"
  }
 },
 "nbformat": 4,
 "nbformat_minor": 2
}
